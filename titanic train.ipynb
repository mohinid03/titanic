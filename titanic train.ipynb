{
 "cells": [
  {
   "cell_type": "code",
   "execution_count": 1,
   "id": "1fb2552d",
   "metadata": {
    "execution": {
     "iopub.execute_input": "2024-03-01T04:59:04.355933Z",
     "iopub.status.busy": "2024-03-01T04:59:04.355076Z",
     "iopub.status.idle": "2024-03-01T04:59:05.369175Z",
     "shell.execute_reply": "2024-03-01T04:59:05.368042Z"
    },
    "papermill": {
     "duration": 1.032154,
     "end_time": "2024-03-01T04:59:05.371681",
     "exception": false,
     "start_time": "2024-03-01T04:59:04.339527",
     "status": "completed"
    },
    "tags": []
   },
   "outputs": [],
   "source": [
    "import pandas as pd\n",
    "import numpy as np\n",
    "import matplotlib.pyplot as plt\n",
    "import seaborn as sns\n",
    "%matplotlib inline"
   ]
  },
  {
   "cell_type": "code",
   "execution_count": 2,
   "id": "73736ad6",
   "metadata": {
    "execution": {
     "iopub.execute_input": "2024-03-01T04:59:05.400401Z",
     "iopub.status.busy": "2024-03-01T04:59:05.400004Z",
     "iopub.status.idle": "2024-03-01T04:59:05.425854Z",
     "shell.execute_reply": "2024-03-01T04:59:05.424696Z"
    },
    "papermill": {
     "duration": 0.043249,
     "end_time": "2024-03-01T04:59:05.428212",
     "exception": false,
     "start_time": "2024-03-01T04:59:05.384963",
     "status": "completed"
    },
    "tags": []
   },
   "outputs": [],
   "source": [
    "# reading data\n",
    "train=pd.read_csv('../input/titanic/train.csv')\n",
    "test=pd.read_csv('../input/titanic/test.csv') "
   ]
  },
  {
   "cell_type": "code",
   "execution_count": 3,
   "id": "8e60cac1",
   "metadata": {
    "execution": {
     "iopub.execute_input": "2024-03-01T04:59:05.455324Z",
     "iopub.status.busy": "2024-03-01T04:59:05.454690Z",
     "iopub.status.idle": "2024-03-01T04:59:05.474353Z",
     "shell.execute_reply": "2024-03-01T04:59:05.473713Z"
    },
    "papermill": {
     "duration": 0.035231,
     "end_time": "2024-03-01T04:59:05.476091",
     "exception": false,
     "start_time": "2024-03-01T04:59:05.440860",
     "status": "completed"
    },
    "tags": []
   },
   "outputs": [
    {
     "data": {
      "text/html": [
       "<div>\n",
       "<style scoped>\n",
       "    .dataframe tbody tr th:only-of-type {\n",
       "        vertical-align: middle;\n",
       "    }\n",
       "\n",
       "    .dataframe tbody tr th {\n",
       "        vertical-align: top;\n",
       "    }\n",
       "\n",
       "    .dataframe thead th {\n",
       "        text-align: right;\n",
       "    }\n",
       "</style>\n",
       "<table border=\"1\" class=\"dataframe\">\n",
       "  <thead>\n",
       "    <tr style=\"text-align: right;\">\n",
       "      <th></th>\n",
       "      <th>PassengerId</th>\n",
       "      <th>Survived</th>\n",
       "      <th>Pclass</th>\n",
       "      <th>Name</th>\n",
       "      <th>Sex</th>\n",
       "      <th>Age</th>\n",
       "      <th>SibSp</th>\n",
       "      <th>Parch</th>\n",
       "      <th>Ticket</th>\n",
       "      <th>Fare</th>\n",
       "      <th>Cabin</th>\n",
       "      <th>Embarked</th>\n",
       "    </tr>\n",
       "  </thead>\n",
       "  <tbody>\n",
       "    <tr>\n",
       "      <th>0</th>\n",
       "      <td>1</td>\n",
       "      <td>0</td>\n",
       "      <td>3</td>\n",
       "      <td>Braund, Mr. Owen Harris</td>\n",
       "      <td>male</td>\n",
       "      <td>22.0</td>\n",
       "      <td>1</td>\n",
       "      <td>0</td>\n",
       "      <td>A/5 21171</td>\n",
       "      <td>7.2500</td>\n",
       "      <td>NaN</td>\n",
       "      <td>S</td>\n",
       "    </tr>\n",
       "    <tr>\n",
       "      <th>1</th>\n",
       "      <td>2</td>\n",
       "      <td>1</td>\n",
       "      <td>1</td>\n",
       "      <td>Cumings, Mrs. John Bradley (Florence Briggs Th...</td>\n",
       "      <td>female</td>\n",
       "      <td>38.0</td>\n",
       "      <td>1</td>\n",
       "      <td>0</td>\n",
       "      <td>PC 17599</td>\n",
       "      <td>71.2833</td>\n",
       "      <td>C85</td>\n",
       "      <td>C</td>\n",
       "    </tr>\n",
       "    <tr>\n",
       "      <th>2</th>\n",
       "      <td>3</td>\n",
       "      <td>1</td>\n",
       "      <td>3</td>\n",
       "      <td>Heikkinen, Miss. Laina</td>\n",
       "      <td>female</td>\n",
       "      <td>26.0</td>\n",
       "      <td>0</td>\n",
       "      <td>0</td>\n",
       "      <td>STON/O2. 3101282</td>\n",
       "      <td>7.9250</td>\n",
       "      <td>NaN</td>\n",
       "      <td>S</td>\n",
       "    </tr>\n",
       "    <tr>\n",
       "      <th>3</th>\n",
       "      <td>4</td>\n",
       "      <td>1</td>\n",
       "      <td>1</td>\n",
       "      <td>Futrelle, Mrs. Jacques Heath (Lily May Peel)</td>\n",
       "      <td>female</td>\n",
       "      <td>35.0</td>\n",
       "      <td>1</td>\n",
       "      <td>0</td>\n",
       "      <td>113803</td>\n",
       "      <td>53.1000</td>\n",
       "      <td>C123</td>\n",
       "      <td>S</td>\n",
       "    </tr>\n",
       "    <tr>\n",
       "      <th>4</th>\n",
       "      <td>5</td>\n",
       "      <td>0</td>\n",
       "      <td>3</td>\n",
       "      <td>Allen, Mr. William Henry</td>\n",
       "      <td>male</td>\n",
       "      <td>35.0</td>\n",
       "      <td>0</td>\n",
       "      <td>0</td>\n",
       "      <td>373450</td>\n",
       "      <td>8.0500</td>\n",
       "      <td>NaN</td>\n",
       "      <td>S</td>\n",
       "    </tr>\n",
       "  </tbody>\n",
       "</table>\n",
       "</div>"
      ],
      "text/plain": [
       "   PassengerId  Survived  Pclass  \\\n",
       "0            1         0       3   \n",
       "1            2         1       1   \n",
       "2            3         1       3   \n",
       "3            4         1       1   \n",
       "4            5         0       3   \n",
       "\n",
       "                                                Name     Sex   Age  SibSp  \\\n",
       "0                            Braund, Mr. Owen Harris    male  22.0      1   \n",
       "1  Cumings, Mrs. John Bradley (Florence Briggs Th...  female  38.0      1   \n",
       "2                             Heikkinen, Miss. Laina  female  26.0      0   \n",
       "3       Futrelle, Mrs. Jacques Heath (Lily May Peel)  female  35.0      1   \n",
       "4                           Allen, Mr. William Henry    male  35.0      0   \n",
       "\n",
       "   Parch            Ticket     Fare Cabin Embarked  \n",
       "0      0         A/5 21171   7.2500   NaN        S  \n",
       "1      0          PC 17599  71.2833   C85        C  \n",
       "2      0  STON/O2. 3101282   7.9250   NaN        S  \n",
       "3      0            113803  53.1000  C123        S  \n",
       "4      0            373450   8.0500   NaN        S  "
      ]
     },
     "execution_count": 3,
     "metadata": {},
     "output_type": "execute_result"
    }
   ],
   "source": [
    "train.head()"
   ]
  },
  {
   "cell_type": "code",
   "execution_count": 4,
   "id": "6a20247d",
   "metadata": {
    "execution": {
     "iopub.execute_input": "2024-03-01T04:59:05.504257Z",
     "iopub.status.busy": "2024-03-01T04:59:05.503867Z",
     "iopub.status.idle": "2024-03-01T04:59:05.509249Z",
     "shell.execute_reply": "2024-03-01T04:59:05.508620Z"
    },
    "papermill": {
     "duration": 0.020961,
     "end_time": "2024-03-01T04:59:05.511011",
     "exception": false,
     "start_time": "2024-03-01T04:59:05.490050",
     "status": "completed"
    },
    "tags": []
   },
   "outputs": [
    {
     "data": {
      "text/plain": [
       "(891, 12)"
      ]
     },
     "execution_count": 4,
     "metadata": {},
     "output_type": "execute_result"
    }
   ],
   "source": [
    "train.shape "
   ]
  },
  {
   "cell_type": "code",
   "execution_count": 5,
   "id": "5dcf4b67",
   "metadata": {
    "execution": {
     "iopub.execute_input": "2024-03-01T04:59:05.537457Z",
     "iopub.status.busy": "2024-03-01T04:59:05.537100Z",
     "iopub.status.idle": "2024-03-01T04:59:05.542756Z",
     "shell.execute_reply": "2024-03-01T04:59:05.542148Z"
    },
    "papermill": {
     "duration": 0.020943,
     "end_time": "2024-03-01T04:59:05.544354",
     "exception": false,
     "start_time": "2024-03-01T04:59:05.523411",
     "status": "completed"
    },
    "tags": []
   },
   "outputs": [
    {
     "data": {
      "text/plain": [
       "Index(['PassengerId', 'Survived', 'Pclass', 'Name', 'Sex', 'Age', 'SibSp',\n",
       "       'Parch', 'Ticket', 'Fare', 'Cabin', 'Embarked'],\n",
       "      dtype='object')"
      ]
     },
     "execution_count": 5,
     "metadata": {},
     "output_type": "execute_result"
    }
   ],
   "source": [
    "train.columns "
   ]
  },
  {
   "cell_type": "code",
   "execution_count": 6,
   "id": "2288980f",
   "metadata": {
    "execution": {
     "iopub.execute_input": "2024-03-01T04:59:05.571452Z",
     "iopub.status.busy": "2024-03-01T04:59:05.570523Z",
     "iopub.status.idle": "2024-03-01T04:59:05.578998Z",
     "shell.execute_reply": "2024-03-01T04:59:05.578311Z"
    },
    "papermill": {
     "duration": 0.023923,
     "end_time": "2024-03-01T04:59:05.580803",
     "exception": false,
     "start_time": "2024-03-01T04:59:05.556880",
     "status": "completed"
    },
    "scrolled": true,
    "tags": []
   },
   "outputs": [
    {
     "data": {
      "text/plain": [
       "PassengerId      0\n",
       "Survived         0\n",
       "Pclass           0\n",
       "Name             0\n",
       "Sex              0\n",
       "Age            177\n",
       "SibSp            0\n",
       "Parch            0\n",
       "Ticket           0\n",
       "Fare             0\n",
       "Cabin          687\n",
       "Embarked         2\n",
       "dtype: int64"
      ]
     },
     "execution_count": 6,
     "metadata": {},
     "output_type": "execute_result"
    }
   ],
   "source": [
    "# number of null values\n",
    "train.isnull().sum() "
   ]
  },
  {
   "cell_type": "code",
   "execution_count": 7,
   "id": "00f40ea6",
   "metadata": {
    "execution": {
     "iopub.execute_input": "2024-03-01T04:59:05.609162Z",
     "iopub.status.busy": "2024-03-01T04:59:05.608556Z",
     "iopub.status.idle": "2024-03-01T04:59:05.622151Z",
     "shell.execute_reply": "2024-03-01T04:59:05.621262Z"
    },
    "papermill": {
     "duration": 0.029895,
     "end_time": "2024-03-01T04:59:05.624040",
     "exception": false,
     "start_time": "2024-03-01T04:59:05.594145",
     "status": "completed"
    },
    "scrolled": true,
    "tags": []
   },
   "outputs": [
    {
     "data": {
      "text/plain": [
       "male      577\n",
       "female    314\n",
       "Name: Sex, dtype: int64"
      ]
     },
     "execution_count": 7,
     "metadata": {},
     "output_type": "execute_result"
    }
   ],
   "source": [
    "train['Sex'].value_counts()"
   ]
  },
  {
   "cell_type": "code",
   "execution_count": 8,
   "id": "3d9cd9f6",
   "metadata": {
    "execution": {
     "iopub.execute_input": "2024-03-01T04:59:05.653345Z",
     "iopub.status.busy": "2024-03-01T04:59:05.652726Z",
     "iopub.status.idle": "2024-03-01T04:59:05.811346Z",
     "shell.execute_reply": "2024-03-01T04:59:05.810522Z"
    },
    "papermill": {
     "duration": 0.176363,
     "end_time": "2024-03-01T04:59:05.813917",
     "exception": false,
     "start_time": "2024-03-01T04:59:05.637554",
     "status": "completed"
    },
    "tags": []
   },
   "outputs": [
    {
     "data": {
      "text/plain": [
       "<AxesSubplot:xlabel='Sex', ylabel='count'>"
      ]
     },
     "execution_count": 8,
     "metadata": {},
     "output_type": "execute_result"
    },
    {
     "data": {
      "image/png": "[encoded data removed]",
      "text/plain": [
       "<Figure size 432x288 with 1 Axes>"
      ]
     },
     "metadata": {
      "needs_background": "light"
     },
     "output_type": "display_data"
    }
   ],
   "source": [
    "sns.countplot(x='Sex', data=train)"
   ]
  },
  {
   "cell_type": "code",
   "execution_count": 9,
   "id": "843ed3e0",
   "metadata": {
    "execution": {
     "iopub.execute_input": "2024-03-01T04:59:05.845249Z",
     "iopub.status.busy": "2024-03-01T04:59:05.844899Z",
     "iopub.status.idle": "2024-03-01T04:59:05.852651Z",
     "shell.execute_reply": "2024-03-01T04:59:05.851803Z"
    },
    "papermill": {
     "duration": 0.023951,
     "end_time": "2024-03-01T04:59:05.854400",
     "exception": false,
     "start_time": "2024-03-01T04:59:05.830449",
     "status": "completed"
    },
    "tags": []
   },
   "outputs": [
    {
     "data": {
      "text/plain": [
       "3    491\n",
       "1    216\n",
       "2    184\n",
       "Name: Pclass, dtype: int64"
      ]
     },
     "execution_count": 9,
     "metadata": {},
     "output_type": "execute_result"
    }
   ],
   "source": [
    "train['Pclass'].value_counts()"
   ]
  },
  {
   "cell_type": "code",
   "execution_count": 10,
   "id": "c5c6d8f8",
   "metadata": {
    "execution": {
     "iopub.execute_input": "2024-03-01T04:59:05.884649Z",
     "iopub.status.busy": "2024-03-01T04:59:05.883626Z",
     "iopub.status.idle": "2024-03-01T04:59:06.004748Z",
     "shell.execute_reply": "2024-03-01T04:59:06.003936Z"
    },
    "papermill": {
     "duration": 0.139404,
     "end_time": "2024-03-01T04:59:06.007272",
     "exception": false,
     "start_time": "2024-03-01T04:59:05.867868",
     "status": "completed"
    },
    "tags": []
   },
   "outputs": [
    {
     "data": {
      "text/plain": [
       "<AxesSubplot:xlabel='Pclass', ylabel='count'>"
      ]
     },
     "execution_count": 10,
     "metadata": {},
     "output_type": "execute_result"
    },
    {
     "data": {
      "image/png": "[encoded data removed]",
      "text/plain": [
       "<Figure size 432x288 with 1 Axes>"
      ]
     },
     "metadata": {
      "needs_background": "light"
     },
     "output_type": "display_data"
    }
   ],
   "source": [
    "sns.countplot(x='Pclass', data=train)"
   ]
  },
  {
   "cell_type": "code",
   "execution_count": 11,
   "id": "36ead728",
   "metadata": {
    "execution": {
     "iopub.execute_input": "2024-03-01T04:59:06.043761Z",
     "iopub.status.busy": "2024-03-01T04:59:06.042970Z",
     "iopub.status.idle": "2024-03-01T04:59:06.049514Z",
     "shell.execute_reply": "2024-03-01T04:59:06.048916Z"
    },
    "papermill": {
     "duration": 0.028247,
     "end_time": "2024-03-01T04:59:06.051214",
     "exception": false,
     "start_time": "2024-03-01T04:59:06.022967",
     "status": "completed"
    },
    "scrolled": true,
    "tags": []
   },
   "outputs": [
    {
     "data": {
      "text/plain": [
       "S    644\n",
       "C    168\n",
       "Q     77\n",
       "Name: Embarked, dtype: int64"
      ]
     },
     "execution_count": 11,
     "metadata": {},
     "output_type": "execute_result"
    }
   ],
   "source": [
    "train['Embarked'].value_counts()"
   ]
  },
  {
   "cell_type": "code",
   "execution_count": 12,
   "id": "29b56526",
   "metadata": {
    "execution": {
     "iopub.execute_input": "2024-03-01T04:59:06.081474Z",
     "iopub.status.busy": "2024-03-01T04:59:06.080949Z",
     "iopub.status.idle": "2024-03-01T04:59:06.195235Z",
     "shell.execute_reply": "2024-03-01T04:59:06.194463Z"
    },
    "papermill": {
     "duration": 0.131772,
     "end_time": "2024-03-01T04:59:06.197233",
     "exception": false,
     "start_time": "2024-03-01T04:59:06.065461",
     "status": "completed"
    },
    "scrolled": true,
    "tags": []
   },
   "outputs": [
    {
     "data": {
      "text/plain": [
       "<AxesSubplot:xlabel='Embarked', ylabel='count'>"
      ]
     },
     "execution_count": 12,
     "metadata": {},
     "output_type": "execute_result"
    },
    {
     "data": {
      "image/png": "[encoded data removed]",
      "text/plain": [
       "<Figure size 432x288 with 1 Axes>"
      ]
     },
     "metadata": {
      "needs_background": "light"
     },
     "output_type": "display_data"
    }
   ],
   "source": [
    "sns.countplot(x='Embarked', data=train)"
   ]
  },
  {
   "cell_type": "code",
   "execution_count": 13,
   "id": "f44a8dbe",
   "metadata": {
    "execution": {
     "iopub.execute_input": "2024-03-01T04:59:06.233914Z",
     "iopub.status.busy": "2024-03-01T04:59:06.233558Z",
     "iopub.status.idle": "2024-03-01T04:59:06.240247Z",
     "shell.execute_reply": "2024-03-01T04:59:06.239618Z"
    },
    "papermill": {
     "duration": 0.026983,
     "end_time": "2024-03-01T04:59:06.242202",
     "exception": false,
     "start_time": "2024-03-01T04:59:06.215219",
     "status": "completed"
    },
    "scrolled": true,
    "tags": []
   },
   "outputs": [
    {
     "data": {
      "text/plain": [
       "0    608\n",
       "1    209\n",
       "2     28\n",
       "4     18\n",
       "3     16\n",
       "8      7\n",
       "5      5\n",
       "Name: SibSp, dtype: int64"
      ]
     },
     "execution_count": 13,
     "metadata": {},
     "output_type": "execute_result"
    }
   ],
   "source": [
    "train['SibSp'].value_counts()"
   ]
  },
  {
   "cell_type": "code",
   "execution_count": 14,
   "id": "7f1c2a82",
   "metadata": {
    "execution": {
     "iopub.execute_input": "2024-03-01T04:59:06.274497Z",
     "iopub.status.busy": "2024-03-01T04:59:06.273824Z",
     "iopub.status.idle": "2024-03-01T04:59:06.417045Z",
     "shell.execute_reply": "2024-03-01T04:59:06.416272Z"
    },
    "papermill": {
     "duration": 0.161577,
     "end_time": "2024-03-01T04:59:06.419056",
     "exception": false,
     "start_time": "2024-03-01T04:59:06.257479",
     "status": "completed"
    },
    "tags": []
   },
   "outputs": [
    {
     "data": {
      "text/plain": [
       "<AxesSubplot:xlabel='SibSp', ylabel='count'>"
      ]
     },
     "execution_count": 14,
     "metadata": {},
     "output_type": "execute_result"
    },
    {
     "data": {
      "image/png": "[encoded data removed]",
      "text/plain": [
       "<Figure size 432x288 with 1 Axes>"
      ]
     },
     "metadata": {
      "needs_background": "light"
     },
     "output_type": "display_data"
    }
   ],
   "source": [
    "sns.countplot(x='SibSp', data=train)"
   ]
  },
  {
   "cell_type": "markdown",
   "id": "a7d2e994",
   "metadata": {
    "papermill": {
     "duration": 0.014434,
     "end_time": "2024-03-01T04:59:06.452269",
     "exception": false,
     "start_time": "2024-03-01T04:59:06.437835",
     "status": "completed"
    },
    "tags": []
   },
   "source": [
    "Visualizing survival based on the gender."
   ]
  },
  {
   "cell_type": "code",
   "execution_count": 15,
   "id": "40521bba",
   "metadata": {
    "execution": {
     "iopub.execute_input": "2024-03-01T04:59:06.483652Z",
     "iopub.status.busy": "2024-03-01T04:59:06.483027Z",
     "iopub.status.idle": "2024-03-01T04:59:06.491191Z",
     "shell.execute_reply": "2024-03-01T04:59:06.489927Z"
    },
    "papermill": {
     "duration": 0.026705,
     "end_time": "2024-03-01T04:59:06.493632",
     "exception": false,
     "start_time": "2024-03-01T04:59:06.466927",
     "status": "completed"
    },
    "tags": []
   },
   "outputs": [],
   "source": [
    "#new feature\n",
    "train['Died'] = 1 - train['Survived']"
   ]
  },
  {
   "cell_type": "code",
   "execution_count": 16,
   "id": "c29426ef",
   "metadata": {
    "execution": {
     "iopub.execute_input": "2024-03-01T04:59:06.525471Z",
     "iopub.status.busy": "2024-03-01T04:59:06.524870Z",
     "iopub.status.idle": "2024-03-01T04:59:06.720252Z",
     "shell.execute_reply": "2024-03-01T04:59:06.719298Z"
    },
    "papermill": {
     "duration": 0.213296,
     "end_time": "2024-03-01T04:59:06.722240",
     "exception": false,
     "start_time": "2024-03-01T04:59:06.508944",
     "status": "completed"
    },
    "tags": []
   },
   "outputs": [
    {
     "data": {
      "text/plain": [
       "<AxesSubplot:xlabel='Sex'>"
      ]
     },
     "execution_count": 16,
     "metadata": {},
     "output_type": "execute_result"
    },
    {
     "data": {
      "image/png": "[encoded data removed]",
      "text/plain": [
       "<Figure size 720x360 with 1 Axes>"
      ]
     },
     "metadata": {
      "needs_background": "light"
     },
     "output_type": "display_data"
    }
   ],
   "source": [
    "train.groupby('Sex').agg('sum')[['Survived', 'Died']].plot(kind='bar',\n",
    "                                                           figsize=(10, 5),\n",
    "                                                           stacked=True)"
   ]
  },
  {
   "cell_type": "markdown",
   "id": "7be27d11",
   "metadata": {
    "papermill": {
     "duration": 0.016806,
     "end_time": "2024-03-01T04:59:06.756547",
     "exception": false,
     "start_time": "2024-03-01T04:59:06.739741",
     "status": "completed"
    },
    "tags": []
   },
   "source": [
    "Plotting the same graph but with ratio instead."
   ]
  },
  {
   "cell_type": "code",
   "execution_count": 17,
   "id": "b8dd3e98",
   "metadata": {
    "execution": {
     "iopub.execute_input": "2024-03-01T04:59:06.789303Z",
     "iopub.status.busy": "2024-03-01T04:59:06.788560Z",
     "iopub.status.idle": "2024-03-01T04:59:06.959717Z",
     "shell.execute_reply": "2024-03-01T04:59:06.958350Z"
    },
    "papermill": {
     "duration": 0.190083,
     "end_time": "2024-03-01T04:59:06.962251",
     "exception": false,
     "start_time": "2024-03-01T04:59:06.772168",
     "status": "completed"
    },
    "tags": []
   },
   "outputs": [
    {
     "data": {
      "text/plain": [
       "<AxesSubplot:xlabel='Sex'>"
      ]
     },
     "execution_count": 17,
     "metadata": {},
     "output_type": "execute_result"
    },
    {
     "data": {
      "image/png": "[encoded data removed]",
      "text/plain": [
       "<Figure size 720x360 with 1 Axes>"
      ]
     },
     "metadata": {
      "needs_background": "light"
     },
     "output_type": "display_data"
    }
   ],
   "source": [
    "train.groupby('Sex').agg('mean')[['Survived', 'Died']].plot(kind='bar',\n",
    "                                                            figsize=(10, 5),\n",
    "                                                            stacked=True)"
   ]
  },
  {
   "cell_type": "markdown",
   "id": "c0702bb6",
   "metadata": {
    "papermill": {
     "duration": 0.015333,
     "end_time": "2024-03-01T04:59:06.994370",
     "exception": false,
     "start_time": "2024-03-01T04:59:06.979037",
     "status": "completed"
    },
    "tags": []
   },
   "source": [
    "The Sex variable seems to be a discriminative feature. Women are more likely to survive."
   ]
  },
  {
   "cell_type": "markdown",
   "id": "a1114414",
   "metadata": {
    "papermill": {
     "duration": 0.019046,
     "end_time": "2024-03-01T04:59:07.030607",
     "exception": false,
     "start_time": "2024-03-01T04:59:07.011561",
     "status": "completed"
    },
    "tags": []
   },
   "source": [
    "Now, visualizing survival based on the fare."
   ]
  },
  {
   "cell_type": "code",
   "execution_count": 18,
   "id": "64c30adc",
   "metadata": {
    "execution": {
     "iopub.execute_input": "2024-03-01T04:59:07.064421Z",
     "iopub.status.busy": "2024-03-01T04:59:07.063515Z",
     "iopub.status.idle": "2024-03-01T04:59:07.444145Z",
     "shell.execute_reply": "2024-03-01T04:59:07.442752Z"
    },
    "papermill": {
     "duration": 0.398617,
     "end_time": "2024-03-01T04:59:07.446274",
     "exception": false,
     "start_time": "2024-03-01T04:59:07.047657",
     "status": "completed"
    },
    "tags": []
   },
   "outputs": [
    {
     "data": {
      "text/plain": [
       "<matplotlib.legend.Legend at 0x7da3d6bcfc10>"
      ]
     },
     "execution_count": 18,
     "metadata": {},
     "output_type": "execute_result"
    },
    {
     "data": {
      "image/png": "[encoded data removed]",
      "text/plain": [
       "<Figure size 1152x504 with 1 Axes>"
      ]
     },
     "metadata": {
      "needs_background": "light"
     },
     "output_type": "display_data"
    }
   ],
   "source": [
    "figure = plt.figure(figsize=(16, 7))\n",
    "plt.hist([train[train['Survived'] == 1]['Fare'], train[train['Survived'] == 0]['Fare']], \n",
    "         stacked=True, bins = 50, label = ['Survived','Dead'])\n",
    "plt.xlabel('Fare')\n",
    "plt.ylabel('Number of passengers')\n",
    "plt.legend()"
   ]
  },
  {
   "cell_type": "markdown",
   "id": "f9dfe110",
   "metadata": {
    "papermill": {
     "duration": 0.017585,
     "end_time": "2024-03-01T04:59:07.482733",
     "exception": false,
     "start_time": "2024-03-01T04:59:07.465148",
     "status": "completed"
    },
    "tags": []
   },
   "source": [
    "Passengers with cheaper ticket fares are more likely to die. Put differently, passengers with more expensive tickets, and therefore a more important social status, seem to be rescued first."
   ]
  },
  {
   "cell_type": "code",
   "execution_count": 19,
   "id": "76aa0a7f",
   "metadata": {
    "execution": {
     "iopub.execute_input": "2024-03-01T04:59:07.521628Z",
     "iopub.status.busy": "2024-03-01T04:59:07.521286Z",
     "iopub.status.idle": "2024-03-01T04:59:07.528382Z",
     "shell.execute_reply": "2024-03-01T04:59:07.527450Z"
    },
    "papermill": {
     "duration": 0.028206,
     "end_time": "2024-03-01T04:59:07.530428",
     "exception": false,
     "start_time": "2024-03-01T04:59:07.502222",
     "status": "completed"
    },
    "tags": []
   },
   "outputs": [
    {
     "name": "stdout",
     "output_type": "stream",
     "text": [
      "{'Sir', 'Mr', 'Dr', 'Don', 'Master', 'Col', 'Lady', 'Mrs', 'Mlle', 'Capt', 'Jonkheer', 'Rev', 'Miss', 'Major', 'Mme', 'Ms', 'the Countess'}\n"
     ]
    }
   ],
   "source": [
    "titles = set()\n",
    "for name in train['Name']:\n",
    "    titles.add(name.split(',')[1].split('.')[0].strip())\n",
    "print(titles)"
   ]
  },
  {
   "cell_type": "code",
   "execution_count": 20,
   "id": "7b5e72cb",
   "metadata": {
    "execution": {
     "iopub.execute_input": "2024-03-01T04:59:07.563125Z",
     "iopub.status.busy": "2024-03-01T04:59:07.562478Z",
     "iopub.status.idle": "2024-03-01T04:59:07.567618Z",
     "shell.execute_reply": "2024-03-01T04:59:07.566991Z"
    },
    "papermill": {
     "duration": 0.02341,
     "end_time": "2024-03-01T04:59:07.569381",
     "exception": false,
     "start_time": "2024-03-01T04:59:07.545971",
     "status": "completed"
    },
    "tags": []
   },
   "outputs": [],
   "source": [
    "Title_Dictionary = {\"Capt\": \"Officer\",\"Col\": \"Officer\",\"Major\": \"Officer\",\"Jonkheer\": \"Royalty\",\"Don\": \"Royalty\",\"Sir\" : \"Royalty\",\"Dr\": \"Officer\",\"Rev\": \"Officer\",\"the Countess\":\"Royalty\",\"Mme\": \"Mrs\",\"Mlle\": \"Miss\",\"Ms\": \"Mrs\",\"Mr\" : \"Mr\",\"Mrs\" : \"Mrs\",\"Miss\" : \"Miss\",\"Master\" : \"Master\",\"Lady\" : \"Royalty\"}"
   ]
  },
  {
   "cell_type": "code",
   "execution_count": 21,
   "id": "5084d0a9",
   "metadata": {
    "execution": {
     "iopub.execute_input": "2024-03-01T04:59:07.603514Z",
     "iopub.status.busy": "2024-03-01T04:59:07.603155Z",
     "iopub.status.idle": "2024-03-01T04:59:07.622453Z",
     "shell.execute_reply": "2024-03-01T04:59:07.621478Z"
    },
    "papermill": {
     "duration": 0.039282,
     "end_time": "2024-03-01T04:59:07.624436",
     "exception": false,
     "start_time": "2024-03-01T04:59:07.585154",
     "status": "completed"
    },
    "tags": []
   },
   "outputs": [
    {
     "data": {
      "text/html": [
       "<div>\n",
       "<style scoped>\n",
       "    .dataframe tbody tr th:only-of-type {\n",
       "        vertical-align: middle;\n",
       "    }\n",
       "\n",
       "    .dataframe tbody tr th {\n",
       "        vertical-align: top;\n",
       "    }\n",
       "\n",
       "    .dataframe thead th {\n",
       "        text-align: right;\n",
       "    }\n",
       "</style>\n",
       "<table border=\"1\" class=\"dataframe\">\n",
       "  <thead>\n",
       "    <tr style=\"text-align: right;\">\n",
       "      <th></th>\n",
       "      <th>PassengerId</th>\n",
       "      <th>Survived</th>\n",
       "      <th>Pclass</th>\n",
       "      <th>Name</th>\n",
       "      <th>Sex</th>\n",
       "      <th>Age</th>\n",
       "      <th>SibSp</th>\n",
       "      <th>Parch</th>\n",
       "      <th>Ticket</th>\n",
       "      <th>Fare</th>\n",
       "      <th>Cabin</th>\n",
       "      <th>Embarked</th>\n",
       "      <th>Died</th>\n",
       "      <th>Title</th>\n",
       "    </tr>\n",
       "  </thead>\n",
       "  <tbody>\n",
       "    <tr>\n",
       "      <th>0</th>\n",
       "      <td>1</td>\n",
       "      <td>0</td>\n",
       "      <td>3</td>\n",
       "      <td>Braund, Mr. Owen Harris</td>\n",
       "      <td>male</td>\n",
       "      <td>22.0</td>\n",
       "      <td>1</td>\n",
       "      <td>0</td>\n",
       "      <td>A/5 21171</td>\n",
       "      <td>7.2500</td>\n",
       "      <td>NaN</td>\n",
       "      <td>S</td>\n",
       "      <td>1</td>\n",
       "      <td>Mr</td>\n",
       "    </tr>\n",
       "    <tr>\n",
       "      <th>1</th>\n",
       "      <td>2</td>\n",
       "      <td>1</td>\n",
       "      <td>1</td>\n",
       "      <td>Cumings, Mrs. John Bradley (Florence Briggs Th...</td>\n",
       "      <td>female</td>\n",
       "      <td>38.0</td>\n",
       "      <td>1</td>\n",
       "      <td>0</td>\n",
       "      <td>PC 17599</td>\n",
       "      <td>71.2833</td>\n",
       "      <td>C85</td>\n",
       "      <td>C</td>\n",
       "      <td>0</td>\n",
       "      <td>Mrs</td>\n",
       "    </tr>\n",
       "    <tr>\n",
       "      <th>2</th>\n",
       "      <td>3</td>\n",
       "      <td>1</td>\n",
       "      <td>3</td>\n",
       "      <td>Heikkinen, Miss. Laina</td>\n",
       "      <td>female</td>\n",
       "      <td>26.0</td>\n",
       "      <td>0</td>\n",
       "      <td>0</td>\n",
       "      <td>STON/O2. 3101282</td>\n",
       "      <td>7.9250</td>\n",
       "      <td>NaN</td>\n",
       "      <td>S</td>\n",
       "      <td>0</td>\n",
       "      <td>Miss</td>\n",
       "    </tr>\n",
       "    <tr>\n",
       "      <th>3</th>\n",
       "      <td>4</td>\n",
       "      <td>1</td>\n",
       "      <td>1</td>\n",
       "      <td>Futrelle, Mrs. Jacques Heath (Lily May Peel)</td>\n",
       "      <td>female</td>\n",
       "      <td>35.0</td>\n",
       "      <td>1</td>\n",
       "      <td>0</td>\n",
       "      <td>113803</td>\n",
       "      <td>53.1000</td>\n",
       "      <td>C123</td>\n",
       "      <td>S</td>\n",
       "      <td>0</td>\n",
       "      <td>Mrs</td>\n",
       "    </tr>\n",
       "    <tr>\n",
       "      <th>4</th>\n",
       "      <td>5</td>\n",
       "      <td>0</td>\n",
       "      <td>3</td>\n",
       "      <td>Allen, Mr. William Henry</td>\n",
       "      <td>male</td>\n",
       "      <td>35.0</td>\n",
       "      <td>0</td>\n",
       "      <td>0</td>\n",
       "      <td>373450</td>\n",
       "      <td>8.0500</td>\n",
       "      <td>NaN</td>\n",
       "      <td>S</td>\n",
       "      <td>1</td>\n",
       "      <td>Mr</td>\n",
       "    </tr>\n",
       "  </tbody>\n",
       "</table>\n",
       "</div>"
      ],
      "text/plain": [
       "   PassengerId  Survived  Pclass  \\\n",
       "0            1         0       3   \n",
       "1            2         1       1   \n",
       "2            3         1       3   \n",
       "3            4         1       1   \n",
       "4            5         0       3   \n",
       "\n",
       "                                                Name     Sex   Age  SibSp  \\\n",
       "0                            Braund, Mr. Owen Harris    male  22.0      1   \n",
       "1  Cumings, Mrs. John Bradley (Florence Briggs Th...  female  38.0      1   \n",
       "2                             Heikkinen, Miss. Laina  female  26.0      0   \n",
       "3       Futrelle, Mrs. Jacques Heath (Lily May Peel)  female  35.0      1   \n",
       "4                           Allen, Mr. William Henry    male  35.0      0   \n",
       "\n",
       "   Parch            Ticket     Fare Cabin Embarked  Died Title  \n",
       "0      0         A/5 21171   7.2500   NaN        S     1    Mr  \n",
       "1      0          PC 17599  71.2833   C85        C     0   Mrs  \n",
       "2      0  STON/O2. 3101282   7.9250   NaN        S     0  Miss  \n",
       "3      0            113803  53.1000  C123        S     0   Mrs  \n",
       "4      0            373450   8.0500   NaN        S     1    Mr  "
      ]
     },
     "execution_count": 21,
     "metadata": {},
     "output_type": "execute_result"
    }
   ],
   "source": [
    "train['Title'] = train['Name'].map(lambda name:name.split(',')[1].split('.')[0].strip())\n",
    "train['Title'] = train.Title.map(Title_Dictionary)\n",
    "train.head()"
   ]
  },
  {
   "cell_type": "code",
   "execution_count": 22,
   "id": "573e9c0f",
   "metadata": {
    "execution": {
     "iopub.execute_input": "2024-03-01T04:59:07.658226Z",
     "iopub.status.busy": "2024-03-01T04:59:07.657628Z",
     "iopub.status.idle": "2024-03-01T04:59:07.671119Z",
     "shell.execute_reply": "2024-03-01T04:59:07.670324Z"
    },
    "papermill": {
     "duration": 0.032486,
     "end_time": "2024-03-01T04:59:07.672873",
     "exception": false,
     "start_time": "2024-03-01T04:59:07.640387",
     "status": "completed"
    },
    "tags": []
   },
   "outputs": [
    {
     "data": {
      "text/html": [
       "<div>\n",
       "<style scoped>\n",
       "    .dataframe tbody tr th:only-of-type {\n",
       "        vertical-align: middle;\n",
       "    }\n",
       "\n",
       "    .dataframe tbody tr th {\n",
       "        vertical-align: top;\n",
       "    }\n",
       "\n",
       "    .dataframe thead th {\n",
       "        text-align: right;\n",
       "    }\n",
       "</style>\n",
       "<table border=\"1\" class=\"dataframe\">\n",
       "  <thead>\n",
       "    <tr style=\"text-align: right;\">\n",
       "      <th></th>\n",
       "      <th>Survived</th>\n",
       "      <th>Pclass</th>\n",
       "      <th>Sex</th>\n",
       "      <th>Age</th>\n",
       "      <th>SibSp</th>\n",
       "      <th>Parch</th>\n",
       "      <th>Fare</th>\n",
       "      <th>Embarked</th>\n",
       "      <th>Title</th>\n",
       "    </tr>\n",
       "  </thead>\n",
       "  <tbody>\n",
       "    <tr>\n",
       "      <th>0</th>\n",
       "      <td>0</td>\n",
       "      <td>3</td>\n",
       "      <td>male</td>\n",
       "      <td>22.0</td>\n",
       "      <td>1</td>\n",
       "      <td>0</td>\n",
       "      <td>7.2500</td>\n",
       "      <td>S</td>\n",
       "      <td>Mr</td>\n",
       "    </tr>\n",
       "    <tr>\n",
       "      <th>1</th>\n",
       "      <td>1</td>\n",
       "      <td>1</td>\n",
       "      <td>female</td>\n",
       "      <td>38.0</td>\n",
       "      <td>1</td>\n",
       "      <td>0</td>\n",
       "      <td>71.2833</td>\n",
       "      <td>C</td>\n",
       "      <td>Mrs</td>\n",
       "    </tr>\n",
       "    <tr>\n",
       "      <th>2</th>\n",
       "      <td>1</td>\n",
       "      <td>3</td>\n",
       "      <td>female</td>\n",
       "      <td>26.0</td>\n",
       "      <td>0</td>\n",
       "      <td>0</td>\n",
       "      <td>7.9250</td>\n",
       "      <td>S</td>\n",
       "      <td>Miss</td>\n",
       "    </tr>\n",
       "    <tr>\n",
       "      <th>3</th>\n",
       "      <td>1</td>\n",
       "      <td>1</td>\n",
       "      <td>female</td>\n",
       "      <td>35.0</td>\n",
       "      <td>1</td>\n",
       "      <td>0</td>\n",
       "      <td>53.1000</td>\n",
       "      <td>S</td>\n",
       "      <td>Mrs</td>\n",
       "    </tr>\n",
       "    <tr>\n",
       "      <th>4</th>\n",
       "      <td>0</td>\n",
       "      <td>3</td>\n",
       "      <td>male</td>\n",
       "      <td>35.0</td>\n",
       "      <td>0</td>\n",
       "      <td>0</td>\n",
       "      <td>8.0500</td>\n",
       "      <td>S</td>\n",
       "      <td>Mr</td>\n",
       "    </tr>\n",
       "  </tbody>\n",
       "</table>\n",
       "</div>"
      ],
      "text/plain": [
       "   Survived  Pclass     Sex   Age  SibSp  Parch     Fare Embarked Title\n",
       "0         0       3    male  22.0      1      0   7.2500        S    Mr\n",
       "1         1       1  female  38.0      1      0  71.2833        C   Mrs\n",
       "2         1       3  female  26.0      0      0   7.9250        S  Miss\n",
       "3         1       1  female  35.0      1      0  53.1000        S   Mrs\n",
       "4         0       3    male  35.0      0      0   8.0500        S    Mr"
      ]
     },
     "execution_count": 22,
     "metadata": {},
     "output_type": "execute_result"
    }
   ],
   "source": [
    "df1=train.drop(['Name','Ticket','Cabin','PassengerId','Died'], axis=1)\n",
    "df1.head()"
   ]
  },
  {
   "cell_type": "code",
   "execution_count": 23,
   "id": "c978f540",
   "metadata": {
    "execution": {
     "iopub.execute_input": "2024-03-01T04:59:07.706635Z",
     "iopub.status.busy": "2024-03-01T04:59:07.706031Z",
     "iopub.status.idle": "2024-03-01T04:59:07.713275Z",
     "shell.execute_reply": "2024-03-01T04:59:07.712546Z"
    },
    "papermill": {
     "duration": 0.026496,
     "end_time": "2024-03-01T04:59:07.715051",
     "exception": false,
     "start_time": "2024-03-01T04:59:07.688555",
     "status": "completed"
    },
    "scrolled": true,
    "tags": []
   },
   "outputs": [
    {
     "data": {
      "text/plain": [
       "Mr         517\n",
       "Miss       184\n",
       "Mrs        127\n",
       "Master      40\n",
       "Officer     18\n",
       "Royalty      5\n",
       "Name: Title, dtype: int64"
      ]
     },
     "execution_count": 23,
     "metadata": {},
     "output_type": "execute_result"
    }
   ],
   "source": [
    "train.Title.value_counts()"
   ]
  },
  {
   "cell_type": "code",
   "execution_count": 24,
   "id": "1d338488",
   "metadata": {
    "execution": {
     "iopub.execute_input": "2024-03-01T04:59:07.748676Z",
     "iopub.status.busy": "2024-03-01T04:59:07.748335Z",
     "iopub.status.idle": "2024-03-01T04:59:07.764379Z",
     "shell.execute_reply": "2024-03-01T04:59:07.763636Z"
    },
    "papermill": {
     "duration": 0.035175,
     "end_time": "2024-03-01T04:59:07.766259",
     "exception": false,
     "start_time": "2024-03-01T04:59:07.731084",
     "status": "completed"
    },
    "tags": []
   },
   "outputs": [
    {
     "data": {
      "text/html": [
       "<div>\n",
       "<style scoped>\n",
       "    .dataframe tbody tr th:only-of-type {\n",
       "        vertical-align: middle;\n",
       "    }\n",
       "\n",
       "    .dataframe tbody tr th {\n",
       "        vertical-align: top;\n",
       "    }\n",
       "\n",
       "    .dataframe thead th {\n",
       "        text-align: right;\n",
       "    }\n",
       "</style>\n",
       "<table border=\"1\" class=\"dataframe\">\n",
       "  <thead>\n",
       "    <tr style=\"text-align: right;\">\n",
       "      <th></th>\n",
       "      <th>Survived</th>\n",
       "      <th>Pclass</th>\n",
       "      <th>Sex</th>\n",
       "      <th>Age</th>\n",
       "      <th>SibSp</th>\n",
       "      <th>Parch</th>\n",
       "      <th>Fare</th>\n",
       "      <th>Embarked</th>\n",
       "      <th>Title</th>\n",
       "    </tr>\n",
       "  </thead>\n",
       "  <tbody>\n",
       "    <tr>\n",
       "      <th>0</th>\n",
       "      <td>0</td>\n",
       "      <td>3</td>\n",
       "      <td>1</td>\n",
       "      <td>22.0</td>\n",
       "      <td>1</td>\n",
       "      <td>0</td>\n",
       "      <td>7.2500</td>\n",
       "      <td>0</td>\n",
       "      <td>0</td>\n",
       "    </tr>\n",
       "    <tr>\n",
       "      <th>1</th>\n",
       "      <td>1</td>\n",
       "      <td>1</td>\n",
       "      <td>0</td>\n",
       "      <td>38.0</td>\n",
       "      <td>1</td>\n",
       "      <td>0</td>\n",
       "      <td>71.2833</td>\n",
       "      <td>1</td>\n",
       "      <td>2</td>\n",
       "    </tr>\n",
       "    <tr>\n",
       "      <th>2</th>\n",
       "      <td>1</td>\n",
       "      <td>3</td>\n",
       "      <td>0</td>\n",
       "      <td>26.0</td>\n",
       "      <td>0</td>\n",
       "      <td>0</td>\n",
       "      <td>7.9250</td>\n",
       "      <td>0</td>\n",
       "      <td>1</td>\n",
       "    </tr>\n",
       "    <tr>\n",
       "      <th>3</th>\n",
       "      <td>1</td>\n",
       "      <td>1</td>\n",
       "      <td>0</td>\n",
       "      <td>35.0</td>\n",
       "      <td>1</td>\n",
       "      <td>0</td>\n",
       "      <td>53.1000</td>\n",
       "      <td>0</td>\n",
       "      <td>2</td>\n",
       "    </tr>\n",
       "    <tr>\n",
       "      <th>4</th>\n",
       "      <td>0</td>\n",
       "      <td>3</td>\n",
       "      <td>1</td>\n",
       "      <td>35.0</td>\n",
       "      <td>0</td>\n",
       "      <td>0</td>\n",
       "      <td>8.0500</td>\n",
       "      <td>0</td>\n",
       "      <td>0</td>\n",
       "    </tr>\n",
       "  </tbody>\n",
       "</table>\n",
       "</div>"
      ],
      "text/plain": [
       "   Survived  Pclass  Sex   Age  SibSp  Parch     Fare Embarked  Title\n",
       "0         0       3    1  22.0      1      0   7.2500        0      0\n",
       "1         1       1    0  38.0      1      0  71.2833        1      2\n",
       "2         1       3    0  26.0      0      0   7.9250        0      1\n",
       "3         1       1    0  35.0      1      0  53.1000        0      2\n",
       "4         0       3    1  35.0      0      0   8.0500        0      0"
      ]
     },
     "execution_count": 24,
     "metadata": {},
     "output_type": "execute_result"
    }
   ],
   "source": [
    "df1.Sex=df1.Sex.map({'female':0, 'male':1})\n",
    "df1.Embarked=df1.Embarked.map({'S':0, 'C':1, 'Q':2,'nan':'NaN'})\n",
    "df1.Title=df1.Title.map({'Mr':0, 'Miss':1, 'Mrs':2,'Master':3,'Officer':4,'Royalty':5})\n",
    "df1.head()"
   ]
  },
  {
   "cell_type": "code",
   "execution_count": 25,
   "id": "76b661cd",
   "metadata": {
    "execution": {
     "iopub.execute_input": "2024-03-01T04:59:07.801778Z",
     "iopub.status.busy": "2024-03-01T04:59:07.801328Z",
     "iopub.status.idle": "2024-03-01T04:59:07.810504Z",
     "shell.execute_reply": "2024-03-01T04:59:07.809587Z"
    },
    "papermill": {
     "duration": 0.029466,
     "end_time": "2024-03-01T04:59:07.812313",
     "exception": false,
     "start_time": "2024-03-01T04:59:07.782847",
     "status": "completed"
    },
    "tags": []
   },
   "outputs": [],
   "source": [
    "median_age_men=df1[df1['Sex']==1]['Age'].median()\n",
    "median_age_women=df1[df1['Sex']==0]['Age'].median()"
   ]
  },
  {
   "cell_type": "code",
   "execution_count": 26,
   "id": "8548ef9a",
   "metadata": {
    "execution": {
     "iopub.execute_input": "2024-03-01T04:59:07.846863Z",
     "iopub.status.busy": "2024-03-01T04:59:07.846272Z",
     "iopub.status.idle": "2024-03-01T04:59:07.852615Z",
     "shell.execute_reply": "2024-03-01T04:59:07.851926Z"
    },
    "papermill": {
     "duration": 0.025988,
     "end_time": "2024-03-01T04:59:07.854694",
     "exception": false,
     "start_time": "2024-03-01T04:59:07.828706",
     "status": "completed"
    },
    "tags": []
   },
   "outputs": [],
   "source": [
    "df1.loc[(df1.Age.isnull()) & (df1['Sex']==0),'Age']=median_age_women\n",
    "df1.loc[(df1.Age.isnull()) & (df1['Sex']==1),'Age']=median_age_men"
   ]
  },
  {
   "cell_type": "code",
   "execution_count": 27,
   "id": "c779a4ac",
   "metadata": {
    "execution": {
     "iopub.execute_input": "2024-03-01T04:59:07.891192Z",
     "iopub.status.busy": "2024-03-01T04:59:07.889913Z",
     "iopub.status.idle": "2024-03-01T04:59:07.899002Z",
     "shell.execute_reply": "2024-03-01T04:59:07.898098Z"
    },
    "papermill": {
     "duration": 0.028665,
     "end_time": "2024-03-01T04:59:07.900806",
     "exception": false,
     "start_time": "2024-03-01T04:59:07.872141",
     "status": "completed"
    },
    "tags": []
   },
   "outputs": [
    {
     "data": {
      "text/plain": [
       "Survived    0\n",
       "Pclass      0\n",
       "Sex         0\n",
       "Age         0\n",
       "SibSp       0\n",
       "Parch       0\n",
       "Fare        0\n",
       "Embarked    2\n",
       "Title       0\n",
       "dtype: int64"
      ]
     },
     "execution_count": 27,
     "metadata": {},
     "output_type": "execute_result"
    }
   ],
   "source": [
    "# checking for null values\n",
    "df1.isnull().sum()"
   ]
  },
  {
   "cell_type": "markdown",
   "id": "4d752ff4",
   "metadata": {
    "papermill": {
     "duration": 0.017098,
     "end_time": "2024-03-01T04:59:07.934058",
     "exception": false,
     "start_time": "2024-03-01T04:59:07.916960",
     "status": "completed"
    },
    "tags": []
   },
   "source": [
    "Two null values in Embarked column"
   ]
  },
  {
   "cell_type": "code",
   "execution_count": 28,
   "id": "2cbb5d8f",
   "metadata": {
    "execution": {
     "iopub.execute_input": "2024-03-01T04:59:07.968782Z",
     "iopub.status.busy": "2024-03-01T04:59:07.968391Z",
     "iopub.status.idle": "2024-03-01T04:59:07.975249Z",
     "shell.execute_reply": "2024-03-01T04:59:07.974622Z"
    },
    "papermill": {
     "duration": 0.026312,
     "end_time": "2024-03-01T04:59:07.977332",
     "exception": false,
     "start_time": "2024-03-01T04:59:07.951020",
     "status": "completed"
    },
    "tags": []
   },
   "outputs": [],
   "source": [
    "df1.dropna(inplace=True)"
   ]
  },
  {
   "cell_type": "code",
   "execution_count": 29,
   "id": "217753db",
   "metadata": {
    "execution": {
     "iopub.execute_input": "2024-03-01T04:59:08.011909Z",
     "iopub.status.busy": "2024-03-01T04:59:08.010798Z",
     "iopub.status.idle": "2024-03-01T04:59:08.018520Z",
     "shell.execute_reply": "2024-03-01T04:59:08.017851Z"
    },
    "papermill": {
     "duration": 0.026668,
     "end_time": "2024-03-01T04:59:08.020274",
     "exception": false,
     "start_time": "2024-03-01T04:59:07.993606",
     "status": "completed"
    },
    "tags": []
   },
   "outputs": [
    {
     "data": {
      "text/plain": [
       "Survived    0\n",
       "Pclass      0\n",
       "Sex         0\n",
       "Age         0\n",
       "SibSp       0\n",
       "Parch       0\n",
       "Fare        0\n",
       "Embarked    0\n",
       "Title       0\n",
       "dtype: int64"
      ]
     },
     "execution_count": 29,
     "metadata": {},
     "output_type": "execute_result"
    }
   ],
   "source": [
    "df1.isnull().sum()"
   ]
  },
  {
   "cell_type": "code",
   "execution_count": 30,
   "id": "7b838f66",
   "metadata": {
    "execution": {
     "iopub.execute_input": "2024-03-01T04:59:08.055481Z",
     "iopub.status.busy": "2024-03-01T04:59:08.054945Z",
     "iopub.status.idle": "2024-03-01T04:59:08.067219Z",
     "shell.execute_reply": "2024-03-01T04:59:08.066420Z"
    },
    "papermill": {
     "duration": 0.031527,
     "end_time": "2024-03-01T04:59:08.068950",
     "exception": false,
     "start_time": "2024-03-01T04:59:08.037423",
     "status": "completed"
    },
    "scrolled": true,
    "tags": []
   },
   "outputs": [
    {
     "data": {
      "text/html": [
       "<div>\n",
       "<style scoped>\n",
       "    .dataframe tbody tr th:only-of-type {\n",
       "        vertical-align: middle;\n",
       "    }\n",
       "\n",
       "    .dataframe tbody tr th {\n",
       "        vertical-align: top;\n",
       "    }\n",
       "\n",
       "    .dataframe thead th {\n",
       "        text-align: right;\n",
       "    }\n",
       "</style>\n",
       "<table border=\"1\" class=\"dataframe\">\n",
       "  <thead>\n",
       "    <tr style=\"text-align: right;\">\n",
       "      <th></th>\n",
       "      <th>Survived</th>\n",
       "      <th>Pclass</th>\n",
       "      <th>Sex</th>\n",
       "      <th>Age</th>\n",
       "      <th>SibSp</th>\n",
       "      <th>Parch</th>\n",
       "      <th>Fare</th>\n",
       "      <th>Embarked</th>\n",
       "      <th>Title</th>\n",
       "    </tr>\n",
       "  </thead>\n",
       "  <tbody>\n",
       "    <tr>\n",
       "      <th>0</th>\n",
       "      <td>0</td>\n",
       "      <td>3</td>\n",
       "      <td>1</td>\n",
       "      <td>22.0</td>\n",
       "      <td>1</td>\n",
       "      <td>0</td>\n",
       "      <td>7.2500</td>\n",
       "      <td>0</td>\n",
       "      <td>0</td>\n",
       "    </tr>\n",
       "    <tr>\n",
       "      <th>1</th>\n",
       "      <td>1</td>\n",
       "      <td>1</td>\n",
       "      <td>0</td>\n",
       "      <td>38.0</td>\n",
       "      <td>1</td>\n",
       "      <td>0</td>\n",
       "      <td>71.2833</td>\n",
       "      <td>1</td>\n",
       "      <td>2</td>\n",
       "    </tr>\n",
       "    <tr>\n",
       "      <th>2</th>\n",
       "      <td>1</td>\n",
       "      <td>3</td>\n",
       "      <td>0</td>\n",
       "      <td>26.0</td>\n",
       "      <td>0</td>\n",
       "      <td>0</td>\n",
       "      <td>7.9250</td>\n",
       "      <td>0</td>\n",
       "      <td>1</td>\n",
       "    </tr>\n",
       "    <tr>\n",
       "      <th>3</th>\n",
       "      <td>1</td>\n",
       "      <td>1</td>\n",
       "      <td>0</td>\n",
       "      <td>35.0</td>\n",
       "      <td>1</td>\n",
       "      <td>0</td>\n",
       "      <td>53.1000</td>\n",
       "      <td>0</td>\n",
       "      <td>2</td>\n",
       "    </tr>\n",
       "    <tr>\n",
       "      <th>4</th>\n",
       "      <td>0</td>\n",
       "      <td>3</td>\n",
       "      <td>1</td>\n",
       "      <td>35.0</td>\n",
       "      <td>0</td>\n",
       "      <td>0</td>\n",
       "      <td>8.0500</td>\n",
       "      <td>0</td>\n",
       "      <td>0</td>\n",
       "    </tr>\n",
       "  </tbody>\n",
       "</table>\n",
       "</div>"
      ],
      "text/plain": [
       "   Survived  Pclass  Sex   Age  SibSp  Parch     Fare Embarked  Title\n",
       "0         0       3    1  22.0      1      0   7.2500        0      0\n",
       "1         1       1    0  38.0      1      0  71.2833        1      2\n",
       "2         1       3    0  26.0      0      0   7.9250        0      1\n",
       "3         1       1    0  35.0      1      0  53.1000        0      2\n",
       "4         0       3    1  35.0      0      0   8.0500        0      0"
      ]
     },
     "execution_count": 30,
     "metadata": {},
     "output_type": "execute_result"
    }
   ],
   "source": [
    "# cleaned dataset\n",
    "df1.head()"
   ]
  },
  {
   "cell_type": "code",
   "execution_count": 31,
   "id": "a844fd21",
   "metadata": {
    "execution": {
     "iopub.execute_input": "2024-03-01T04:59:08.103675Z",
     "iopub.status.busy": "2024-03-01T04:59:08.103040Z",
     "iopub.status.idle": "2024-03-01T04:59:08.109392Z",
     "shell.execute_reply": "2024-03-01T04:59:08.108785Z"
    },
    "papermill": {
     "duration": 0.025683,
     "end_time": "2024-03-01T04:59:08.111025",
     "exception": false,
     "start_time": "2024-03-01T04:59:08.085342",
     "status": "completed"
    },
    "scrolled": true,
    "tags": []
   },
   "outputs": [],
   "source": [
    "df1.Age = (df1.Age-min(df1.Age))/(max(df1.Age)-min(df1.Age))\n",
    "df1.Fare = (df1.Fare-min(df1.Fare))/(max(df1.Fare)-min(df1.Fare))"
   ]
  },
  {
   "cell_type": "code",
   "execution_count": 32,
   "id": "41a3840e",
   "metadata": {
    "execution": {
     "iopub.execute_input": "2024-03-01T04:59:08.145465Z",
     "iopub.status.busy": "2024-03-01T04:59:08.144846Z",
     "iopub.status.idle": "2024-03-01T04:59:08.173641Z",
     "shell.execute_reply": "2024-03-01T04:59:08.172970Z"
    },
    "papermill": {
     "duration": 0.048043,
     "end_time": "2024-03-01T04:59:08.175271",
     "exception": false,
     "start_time": "2024-03-01T04:59:08.127228",
     "status": "completed"
    },
    "scrolled": true,
    "tags": []
   },
   "outputs": [
    {
     "data": {
      "text/html": [
       "<div>\n",
       "<style scoped>\n",
       "    .dataframe tbody tr th:only-of-type {\n",
       "        vertical-align: middle;\n",
       "    }\n",
       "\n",
       "    .dataframe tbody tr th {\n",
       "        vertical-align: top;\n",
       "    }\n",
       "\n",
       "    .dataframe thead th {\n",
       "        text-align: right;\n",
       "    }\n",
       "</style>\n",
       "<table border=\"1\" class=\"dataframe\">\n",
       "  <thead>\n",
       "    <tr style=\"text-align: right;\">\n",
       "      <th></th>\n",
       "      <th>Survived</th>\n",
       "      <th>Pclass</th>\n",
       "      <th>Sex</th>\n",
       "      <th>Age</th>\n",
       "      <th>SibSp</th>\n",
       "      <th>Parch</th>\n",
       "      <th>Fare</th>\n",
       "      <th>Title</th>\n",
       "    </tr>\n",
       "  </thead>\n",
       "  <tbody>\n",
       "    <tr>\n",
       "      <th>count</th>\n",
       "      <td>889.000000</td>\n",
       "      <td>889.000000</td>\n",
       "      <td>889.000000</td>\n",
       "      <td>889.000000</td>\n",
       "      <td>889.000000</td>\n",
       "      <td>889.000000</td>\n",
       "      <td>889.000000</td>\n",
       "      <td>889.000000</td>\n",
       "    </tr>\n",
       "    <tr>\n",
       "      <th>mean</th>\n",
       "      <td>0.382452</td>\n",
       "      <td>2.311586</td>\n",
       "      <td>0.649044</td>\n",
       "      <td>0.364099</td>\n",
       "      <td>0.524184</td>\n",
       "      <td>0.382452</td>\n",
       "      <td>0.062649</td>\n",
       "      <td>0.733408</td>\n",
       "    </tr>\n",
       "    <tr>\n",
       "      <th>std</th>\n",
       "      <td>0.486260</td>\n",
       "      <td>0.834700</td>\n",
       "      <td>0.477538</td>\n",
       "      <td>0.163160</td>\n",
       "      <td>1.103705</td>\n",
       "      <td>0.806761</td>\n",
       "      <td>0.097003</td>\n",
       "      <td>1.051499</td>\n",
       "    </tr>\n",
       "    <tr>\n",
       "      <th>min</th>\n",
       "      <td>0.000000</td>\n",
       "      <td>1.000000</td>\n",
       "      <td>0.000000</td>\n",
       "      <td>0.000000</td>\n",
       "      <td>0.000000</td>\n",
       "      <td>0.000000</td>\n",
       "      <td>0.000000</td>\n",
       "      <td>0.000000</td>\n",
       "    </tr>\n",
       "    <tr>\n",
       "      <th>25%</th>\n",
       "      <td>0.000000</td>\n",
       "      <td>2.000000</td>\n",
       "      <td>0.000000</td>\n",
       "      <td>0.271174</td>\n",
       "      <td>0.000000</td>\n",
       "      <td>0.000000</td>\n",
       "      <td>0.015412</td>\n",
       "      <td>0.000000</td>\n",
       "    </tr>\n",
       "    <tr>\n",
       "      <th>50%</th>\n",
       "      <td>0.000000</td>\n",
       "      <td>3.000000</td>\n",
       "      <td>1.000000</td>\n",
       "      <td>0.359135</td>\n",
       "      <td>0.000000</td>\n",
       "      <td>0.000000</td>\n",
       "      <td>0.028213</td>\n",
       "      <td>0.000000</td>\n",
       "    </tr>\n",
       "    <tr>\n",
       "      <th>75%</th>\n",
       "      <td>1.000000</td>\n",
       "      <td>3.000000</td>\n",
       "      <td>1.000000</td>\n",
       "      <td>0.434531</td>\n",
       "      <td>1.000000</td>\n",
       "      <td>0.000000</td>\n",
       "      <td>0.060508</td>\n",
       "      <td>1.000000</td>\n",
       "    </tr>\n",
       "    <tr>\n",
       "      <th>max</th>\n",
       "      <td>1.000000</td>\n",
       "      <td>3.000000</td>\n",
       "      <td>1.000000</td>\n",
       "      <td>1.000000</td>\n",
       "      <td>8.000000</td>\n",
       "      <td>6.000000</td>\n",
       "      <td>1.000000</td>\n",
       "      <td>5.000000</td>\n",
       "    </tr>\n",
       "  </tbody>\n",
       "</table>\n",
       "</div>"
      ],
      "text/plain": [
       "         Survived      Pclass         Sex         Age       SibSp       Parch  \\\n",
       "count  889.000000  889.000000  889.000000  889.000000  889.000000  889.000000   \n",
       "mean     0.382452    2.311586    0.649044    0.364099    0.524184    0.382452   \n",
       "std      0.486260    0.834700    0.477538    0.163160    1.103705    0.806761   \n",
       "min      0.000000    1.000000    0.000000    0.000000    0.000000    0.000000   \n",
       "25%      0.000000    2.000000    0.000000    0.271174    0.000000    0.000000   \n",
       "50%      0.000000    3.000000    1.000000    0.359135    0.000000    0.000000   \n",
       "75%      1.000000    3.000000    1.000000    0.434531    1.000000    0.000000   \n",
       "max      1.000000    3.000000    1.000000    1.000000    8.000000    6.000000   \n",
       "\n",
       "             Fare       Title  \n",
       "count  889.000000  889.000000  \n",
       "mean     0.062649    0.733408  \n",
       "std      0.097003    1.051499  \n",
       "min      0.000000    0.000000  \n",
       "25%      0.015412    0.000000  \n",
       "50%      0.028213    0.000000  \n",
       "75%      0.060508    1.000000  \n",
       "max      1.000000    5.000000  "
      ]
     },
     "execution_count": 32,
     "metadata": {},
     "output_type": "execute_result"
    }
   ],
   "source": [
    "df1.describe()"
   ]
  },
  {
   "cell_type": "code",
   "execution_count": 33,
   "id": "f77db61e",
   "metadata": {
    "execution": {
     "iopub.execute_input": "2024-03-01T04:59:08.210264Z",
     "iopub.status.busy": "2024-03-01T04:59:08.209711Z",
     "iopub.status.idle": "2024-03-01T04:59:08.416045Z",
     "shell.execute_reply": "2024-03-01T04:59:08.414541Z"
    },
    "papermill": {
     "duration": 0.227271,
     "end_time": "2024-03-01T04:59:08.419081",
     "exception": false,
     "start_time": "2024-03-01T04:59:08.191810",
     "status": "completed"
    },
    "tags": []
   },
   "outputs": [],
   "source": [
    "from sklearn.model_selection import train_test_split"
   ]
  },
  {
   "cell_type": "code",
   "execution_count": 34,
   "id": "febf3485",
   "metadata": {
    "execution": {
     "iopub.execute_input": "2024-03-01T04:59:08.454928Z",
     "iopub.status.busy": "2024-03-01T04:59:08.454546Z",
     "iopub.status.idle": "2024-03-01T04:59:08.465243Z",
     "shell.execute_reply": "2024-03-01T04:59:08.464100Z"
    },
    "papermill": {
     "duration": 0.031085,
     "end_time": "2024-03-01T04:59:08.467166",
     "exception": false,
     "start_time": "2024-03-01T04:59:08.436081",
     "status": "completed"
    },
    "tags": []
   },
   "outputs": [],
   "source": [
    "X_train, X_test, y_train, y_test = train_test_split(\n",
    "    df1.drop(['Survived'], axis=1),\n",
    "    df1.Survived,\n",
    "    test_size= 0.2,\n",
    "    random_state=0,\n",
    "    stratify=df1.Survived\n",
    ")"
   ]
  },
  {
   "cell_type": "code",
   "execution_count": 35,
   "id": "976bf894",
   "metadata": {
    "execution": {
     "iopub.execute_input": "2024-03-01T04:59:08.503913Z",
     "iopub.status.busy": "2024-03-01T04:59:08.503534Z",
     "iopub.status.idle": "2024-03-01T04:59:08.601380Z",
     "shell.execute_reply": "2024-03-01T04:59:08.600353Z"
    },
    "papermill": {
     "duration": 0.119486,
     "end_time": "2024-03-01T04:59:08.603751",
     "exception": false,
     "start_time": "2024-03-01T04:59:08.484265",
     "status": "completed"
    },
    "scrolled": true,
    "tags": []
   },
   "outputs": [
    {
     "data": {
      "text/plain": [
       "0.8426966292134831"
      ]
     },
     "execution_count": 35,
     "metadata": {},
     "output_type": "execute_result"
    }
   ],
   "source": [
    "# Logistic regression\n",
    "from sklearn.linear_model import LogisticRegression\n",
    "clf = LogisticRegression()\n",
    "clf.fit(X_train, y_train)\n",
    "\n",
    "from sklearn.metrics import accuracy_score\n",
    "\n",
    "Y_pred = clf.predict(X_test)\n",
    "accuracy_score(y_test, Y_pred)"
   ]
  },
  {
   "cell_type": "code",
   "execution_count": 36,
   "id": "c260bb97",
   "metadata": {
    "execution": {
     "iopub.execute_input": "2024-03-01T04:59:08.640370Z",
     "iopub.status.busy": "2024-03-01T04:59:08.640006Z",
     "iopub.status.idle": "2024-03-01T04:59:08.649635Z",
     "shell.execute_reply": "2024-03-01T04:59:08.648917Z"
    },
    "papermill": {
     "duration": 0.030725,
     "end_time": "2024-03-01T04:59:08.652000",
     "exception": false,
     "start_time": "2024-03-01T04:59:08.621275",
     "status": "completed"
    },
    "tags": []
   },
   "outputs": [
    {
     "data": {
      "text/plain": [
       "array([[98, 12],\n",
       "       [16, 52]])"
      ]
     },
     "execution_count": 36,
     "metadata": {},
     "output_type": "execute_result"
    }
   ],
   "source": [
    "from sklearn.metrics import confusion_matrix\n",
    "cm=confusion_matrix(y_test, Y_pred)\n",
    "cm"
   ]
  },
  {
   "cell_type": "code",
   "execution_count": 37,
   "id": "701baa92",
   "metadata": {
    "execution": {
     "iopub.execute_input": "2024-03-01T04:59:08.688436Z",
     "iopub.status.busy": "2024-03-01T04:59:08.687912Z",
     "iopub.status.idle": "2024-03-01T04:59:08.868023Z",
     "shell.execute_reply": "2024-03-01T04:59:08.867107Z"
    },
    "papermill": {
     "duration": 0.200498,
     "end_time": "2024-03-01T04:59:08.869826",
     "exception": false,
     "start_time": "2024-03-01T04:59:08.669328",
     "status": "completed"
    },
    "tags": []
   },
   "outputs": [
    {
     "data": {
      "text/plain": [
       "<AxesSubplot:>"
      ]
     },
     "execution_count": 37,
     "metadata": {},
     "output_type": "execute_result"
    },
    {
     "data": {
      "image/png": "[encoded data removed]",
      "text/plain": [
       "<Figure size 432x288 with 2 Axes>"
      ]
     },
     "metadata": {
      "needs_background": "light"
     },
     "output_type": "display_data"
    }
   ],
   "source": [
    "sns.heatmap(cm,annot=True)"
   ]
  },
  {
   "cell_type": "code",
   "execution_count": 38,
   "id": "87e41359",
   "metadata": {
    "execution": {
     "iopub.execute_input": "2024-03-01T04:59:08.906740Z",
     "iopub.status.busy": "2024-03-01T04:59:08.906323Z",
     "iopub.status.idle": "2024-03-01T04:59:08.920876Z",
     "shell.execute_reply": "2024-03-01T04:59:08.920034Z"
    },
    "papermill": {
     "duration": 0.035719,
     "end_time": "2024-03-01T04:59:08.922739",
     "exception": false,
     "start_time": "2024-03-01T04:59:08.887020",
     "status": "completed"
    },
    "scrolled": true,
    "tags": []
   },
   "outputs": [
    {
     "data": {
      "text/html": [
       "<div>\n",
       "<style scoped>\n",
       "    .dataframe tbody tr th:only-of-type {\n",
       "        vertical-align: middle;\n",
       "    }\n",
       "\n",
       "    .dataframe tbody tr th {\n",
       "        vertical-align: top;\n",
       "    }\n",
       "\n",
       "    .dataframe thead th {\n",
       "        text-align: right;\n",
       "    }\n",
       "</style>\n",
       "<table border=\"1\" class=\"dataframe\">\n",
       "  <thead>\n",
       "    <tr style=\"text-align: right;\">\n",
       "      <th></th>\n",
       "      <th>PassengerId</th>\n",
       "      <th>Pclass</th>\n",
       "      <th>Name</th>\n",
       "      <th>Sex</th>\n",
       "      <th>Age</th>\n",
       "      <th>SibSp</th>\n",
       "      <th>Parch</th>\n",
       "      <th>Ticket</th>\n",
       "      <th>Fare</th>\n",
       "      <th>Cabin</th>\n",
       "      <th>Embarked</th>\n",
       "    </tr>\n",
       "  </thead>\n",
       "  <tbody>\n",
       "    <tr>\n",
       "      <th>0</th>\n",
       "      <td>892</td>\n",
       "      <td>3</td>\n",
       "      <td>Kelly, Mr. James</td>\n",
       "      <td>male</td>\n",
       "      <td>34.5</td>\n",
       "      <td>0</td>\n",
       "      <td>0</td>\n",
       "      <td>330911</td>\n",
       "      <td>7.8292</td>\n",
       "      <td>NaN</td>\n",
       "      <td>Q</td>\n",
       "    </tr>\n",
       "    <tr>\n",
       "      <th>1</th>\n",
       "      <td>893</td>\n",
       "      <td>3</td>\n",
       "      <td>Wilkes, Mrs. James (Ellen Needs)</td>\n",
       "      <td>female</td>\n",
       "      <td>47.0</td>\n",
       "      <td>1</td>\n",
       "      <td>0</td>\n",
       "      <td>363272</td>\n",
       "      <td>7.0000</td>\n",
       "      <td>NaN</td>\n",
       "      <td>S</td>\n",
       "    </tr>\n",
       "    <tr>\n",
       "      <th>2</th>\n",
       "      <td>894</td>\n",
       "      <td>2</td>\n",
       "      <td>Myles, Mr. Thomas Francis</td>\n",
       "      <td>male</td>\n",
       "      <td>62.0</td>\n",
       "      <td>0</td>\n",
       "      <td>0</td>\n",
       "      <td>240276</td>\n",
       "      <td>9.6875</td>\n",
       "      <td>NaN</td>\n",
       "      <td>Q</td>\n",
       "    </tr>\n",
       "    <tr>\n",
       "      <th>3</th>\n",
       "      <td>895</td>\n",
       "      <td>3</td>\n",
       "      <td>Wirz, Mr. Albert</td>\n",
       "      <td>male</td>\n",
       "      <td>27.0</td>\n",
       "      <td>0</td>\n",
       "      <td>0</td>\n",
       "      <td>315154</td>\n",
       "      <td>8.6625</td>\n",
       "      <td>NaN</td>\n",
       "      <td>S</td>\n",
       "    </tr>\n",
       "    <tr>\n",
       "      <th>4</th>\n",
       "      <td>896</td>\n",
       "      <td>3</td>\n",
       "      <td>Hirvonen, Mrs. Alexander (Helga E Lindqvist)</td>\n",
       "      <td>female</td>\n",
       "      <td>22.0</td>\n",
       "      <td>1</td>\n",
       "      <td>1</td>\n",
       "      <td>3101298</td>\n",
       "      <td>12.2875</td>\n",
       "      <td>NaN</td>\n",
       "      <td>S</td>\n",
       "    </tr>\n",
       "  </tbody>\n",
       "</table>\n",
       "</div>"
      ],
      "text/plain": [
       "   PassengerId  Pclass                                          Name     Sex  \\\n",
       "0          892       3                              Kelly, Mr. James    male   \n",
       "1          893       3              Wilkes, Mrs. James (Ellen Needs)  female   \n",
       "2          894       2                     Myles, Mr. Thomas Francis    male   \n",
       "3          895       3                              Wirz, Mr. Albert    male   \n",
       "4          896       3  Hirvonen, Mrs. Alexander (Helga E Lindqvist)  female   \n",
       "\n",
       "    Age  SibSp  Parch   Ticket     Fare Cabin Embarked  \n",
       "0  34.5      0      0   330911   7.8292   NaN        Q  \n",
       "1  47.0      1      0   363272   7.0000   NaN        S  \n",
       "2  62.0      0      0   240276   9.6875   NaN        Q  \n",
       "3  27.0      0      0   315154   8.6625   NaN        S  \n",
       "4  22.0      1      1  3101298  12.2875   NaN        S  "
      ]
     },
     "execution_count": 38,
     "metadata": {},
     "output_type": "execute_result"
    }
   ],
   "source": [
    "# test dataset\n",
    "test.head()"
   ]
  },
  {
   "cell_type": "code",
   "execution_count": 39,
   "id": "cf22e62a",
   "metadata": {
    "execution": {
     "iopub.execute_input": "2024-03-01T04:59:08.960026Z",
     "iopub.status.busy": "2024-03-01T04:59:08.959643Z",
     "iopub.status.idle": "2024-03-01T04:59:08.966309Z",
     "shell.execute_reply": "2024-03-01T04:59:08.965090Z"
    },
    "papermill": {
     "duration": 0.028222,
     "end_time": "2024-03-01T04:59:08.968746",
     "exception": false,
     "start_time": "2024-03-01T04:59:08.940524",
     "status": "completed"
    },
    "tags": []
   },
   "outputs": [
    {
     "name": "stdout",
     "output_type": "stream",
     "text": [
      "{'Mr', 'Dr', 'Col', 'Master', 'Mrs', 'Dona', 'Rev', 'Miss', 'Ms'}\n"
     ]
    }
   ],
   "source": [
    "titles = set()\n",
    "for name in test['Name']:\n",
    "    titles.add(name.split(',')[1].split('.')[0].strip())\n",
    "print(titles)"
   ]
  },
  {
   "cell_type": "code",
   "execution_count": 40,
   "id": "bcfc35dc",
   "metadata": {
    "execution": {
     "iopub.execute_input": "2024-03-01T04:59:09.007352Z",
     "iopub.status.busy": "2024-03-01T04:59:09.006990Z",
     "iopub.status.idle": "2024-03-01T04:59:09.025248Z",
     "shell.execute_reply": "2024-03-01T04:59:09.024236Z"
    },
    "papermill": {
     "duration": 0.040471,
     "end_time": "2024-03-01T04:59:09.027123",
     "exception": false,
     "start_time": "2024-03-01T04:59:08.986652",
     "status": "completed"
    },
    "tags": []
   },
   "outputs": [
    {
     "data": {
      "text/html": [
       "<div>\n",
       "<style scoped>\n",
       "    .dataframe tbody tr th:only-of-type {\n",
       "        vertical-align: middle;\n",
       "    }\n",
       "\n",
       "    .dataframe tbody tr th {\n",
       "        vertical-align: top;\n",
       "    }\n",
       "\n",
       "    .dataframe thead th {\n",
       "        text-align: right;\n",
       "    }\n",
       "</style>\n",
       "<table border=\"1\" class=\"dataframe\">\n",
       "  <thead>\n",
       "    <tr style=\"text-align: right;\">\n",
       "      <th></th>\n",
       "      <th>PassengerId</th>\n",
       "      <th>Pclass</th>\n",
       "      <th>Name</th>\n",
       "      <th>Sex</th>\n",
       "      <th>Age</th>\n",
       "      <th>SibSp</th>\n",
       "      <th>Parch</th>\n",
       "      <th>Ticket</th>\n",
       "      <th>Fare</th>\n",
       "      <th>Cabin</th>\n",
       "      <th>Embarked</th>\n",
       "      <th>Title</th>\n",
       "    </tr>\n",
       "  </thead>\n",
       "  <tbody>\n",
       "    <tr>\n",
       "      <th>0</th>\n",
       "      <td>892</td>\n",
       "      <td>3</td>\n",
       "      <td>Kelly, Mr. James</td>\n",
       "      <td>male</td>\n",
       "      <td>34.5</td>\n",
       "      <td>0</td>\n",
       "      <td>0</td>\n",
       "      <td>330911</td>\n",
       "      <td>7.8292</td>\n",
       "      <td>NaN</td>\n",
       "      <td>Q</td>\n",
       "      <td>Mr</td>\n",
       "    </tr>\n",
       "    <tr>\n",
       "      <th>1</th>\n",
       "      <td>893</td>\n",
       "      <td>3</td>\n",
       "      <td>Wilkes, Mrs. James (Ellen Needs)</td>\n",
       "      <td>female</td>\n",
       "      <td>47.0</td>\n",
       "      <td>1</td>\n",
       "      <td>0</td>\n",
       "      <td>363272</td>\n",
       "      <td>7.0000</td>\n",
       "      <td>NaN</td>\n",
       "      <td>S</td>\n",
       "      <td>Mrs</td>\n",
       "    </tr>\n",
       "    <tr>\n",
       "      <th>2</th>\n",
       "      <td>894</td>\n",
       "      <td>2</td>\n",
       "      <td>Myles, Mr. Thomas Francis</td>\n",
       "      <td>male</td>\n",
       "      <td>62.0</td>\n",
       "      <td>0</td>\n",
       "      <td>0</td>\n",
       "      <td>240276</td>\n",
       "      <td>9.6875</td>\n",
       "      <td>NaN</td>\n",
       "      <td>Q</td>\n",
       "      <td>Mr</td>\n",
       "    </tr>\n",
       "    <tr>\n",
       "      <th>3</th>\n",
       "      <td>895</td>\n",
       "      <td>3</td>\n",
       "      <td>Wirz, Mr. Albert</td>\n",
       "      <td>male</td>\n",
       "      <td>27.0</td>\n",
       "      <td>0</td>\n",
       "      <td>0</td>\n",
       "      <td>315154</td>\n",
       "      <td>8.6625</td>\n",
       "      <td>NaN</td>\n",
       "      <td>S</td>\n",
       "      <td>Mr</td>\n",
       "    </tr>\n",
       "    <tr>\n",
       "      <th>4</th>\n",
       "      <td>896</td>\n",
       "      <td>3</td>\n",
       "      <td>Hirvonen, Mrs. Alexander (Helga E Lindqvist)</td>\n",
       "      <td>female</td>\n",
       "      <td>22.0</td>\n",
       "      <td>1</td>\n",
       "      <td>1</td>\n",
       "      <td>3101298</td>\n",
       "      <td>12.2875</td>\n",
       "      <td>NaN</td>\n",
       "      <td>S</td>\n",
       "      <td>Mrs</td>\n",
       "    </tr>\n",
       "  </tbody>\n",
       "</table>\n",
       "</div>"
      ],
      "text/plain": [
       "   PassengerId  Pclass                                          Name     Sex  \\\n",
       "0          892       3                              Kelly, Mr. James    male   \n",
       "1          893       3              Wilkes, Mrs. James (Ellen Needs)  female   \n",
       "2          894       2                     Myles, Mr. Thomas Francis    male   \n",
       "3          895       3                              Wirz, Mr. Albert    male   \n",
       "4          896       3  Hirvonen, Mrs. Alexander (Helga E Lindqvist)  female   \n",
       "\n",
       "    Age  SibSp  Parch   Ticket     Fare Cabin Embarked Title  \n",
       "0  34.5      0      0   330911   7.8292   NaN        Q    Mr  \n",
       "1  47.0      1      0   363272   7.0000   NaN        S   Mrs  \n",
       "2  62.0      0      0   240276   9.6875   NaN        Q    Mr  \n",
       "3  27.0      0      0   315154   8.6625   NaN        S    Mr  \n",
       "4  22.0      1      1  3101298  12.2875   NaN        S   Mrs  "
      ]
     },
     "execution_count": 40,
     "metadata": {},
     "output_type": "execute_result"
    }
   ],
   "source": [
    "test['Title'] = test['Name'].map(lambda name:name.split(',')[1].split('.')[0].strip())\n",
    "test['Title'] = test.Title.map(Title_Dictionary)\n",
    "test.head()"
   ]
  },
  {
   "cell_type": "code",
   "execution_count": 41,
   "id": "3ec50123",
   "metadata": {
    "execution": {
     "iopub.execute_input": "2024-03-01T04:59:09.064909Z",
     "iopub.status.busy": "2024-03-01T04:59:09.064557Z",
     "iopub.status.idle": "2024-03-01T04:59:09.070360Z",
     "shell.execute_reply": "2024-03-01T04:59:09.069404Z"
    },
    "papermill": {
     "duration": 0.027105,
     "end_time": "2024-03-01T04:59:09.072220",
     "exception": false,
     "start_time": "2024-03-01T04:59:09.045115",
     "status": "completed"
    },
    "tags": []
   },
   "outputs": [],
   "source": [
    "df2=test.drop(['PassengerId','Name','Ticket','Cabin'], axis=1)"
   ]
  },
  {
   "cell_type": "code",
   "execution_count": 42,
   "id": "7e7169db",
   "metadata": {
    "execution": {
     "iopub.execute_input": "2024-03-01T04:59:09.109361Z",
     "iopub.status.busy": "2024-03-01T04:59:09.109033Z",
     "iopub.status.idle": "2024-03-01T04:59:09.125327Z",
     "shell.execute_reply": "2024-03-01T04:59:09.124239Z"
    },
    "papermill": {
     "duration": 0.037593,
     "end_time": "2024-03-01T04:59:09.127794",
     "exception": false,
     "start_time": "2024-03-01T04:59:09.090201",
     "status": "completed"
    },
    "tags": []
   },
   "outputs": [
    {
     "data": {
      "text/html": [
       "<div>\n",
       "<style scoped>\n",
       "    .dataframe tbody tr th:only-of-type {\n",
       "        vertical-align: middle;\n",
       "    }\n",
       "\n",
       "    .dataframe tbody tr th {\n",
       "        vertical-align: top;\n",
       "    }\n",
       "\n",
       "    .dataframe thead th {\n",
       "        text-align: right;\n",
       "    }\n",
       "</style>\n",
       "<table border=\"1\" class=\"dataframe\">\n",
       "  <thead>\n",
       "    <tr style=\"text-align: right;\">\n",
       "      <th></th>\n",
       "      <th>Pclass</th>\n",
       "      <th>Sex</th>\n",
       "      <th>Age</th>\n",
       "      <th>SibSp</th>\n",
       "      <th>Parch</th>\n",
       "      <th>Fare</th>\n",
       "      <th>Embarked</th>\n",
       "      <th>Title</th>\n",
       "    </tr>\n",
       "  </thead>\n",
       "  <tbody>\n",
       "    <tr>\n",
       "      <th>0</th>\n",
       "      <td>3</td>\n",
       "      <td>1</td>\n",
       "      <td>34.5</td>\n",
       "      <td>0</td>\n",
       "      <td>0</td>\n",
       "      <td>7.8292</td>\n",
       "      <td>2</td>\n",
       "      <td>0.0</td>\n",
       "    </tr>\n",
       "    <tr>\n",
       "      <th>1</th>\n",
       "      <td>3</td>\n",
       "      <td>0</td>\n",
       "      <td>47.0</td>\n",
       "      <td>1</td>\n",
       "      <td>0</td>\n",
       "      <td>7.0000</td>\n",
       "      <td>0</td>\n",
       "      <td>2.0</td>\n",
       "    </tr>\n",
       "    <tr>\n",
       "      <th>2</th>\n",
       "      <td>2</td>\n",
       "      <td>1</td>\n",
       "      <td>62.0</td>\n",
       "      <td>0</td>\n",
       "      <td>0</td>\n",
       "      <td>9.6875</td>\n",
       "      <td>2</td>\n",
       "      <td>0.0</td>\n",
       "    </tr>\n",
       "    <tr>\n",
       "      <th>3</th>\n",
       "      <td>3</td>\n",
       "      <td>1</td>\n",
       "      <td>27.0</td>\n",
       "      <td>0</td>\n",
       "      <td>0</td>\n",
       "      <td>8.6625</td>\n",
       "      <td>0</td>\n",
       "      <td>0.0</td>\n",
       "    </tr>\n",
       "    <tr>\n",
       "      <th>4</th>\n",
       "      <td>3</td>\n",
       "      <td>0</td>\n",
       "      <td>22.0</td>\n",
       "      <td>1</td>\n",
       "      <td>1</td>\n",
       "      <td>12.2875</td>\n",
       "      <td>0</td>\n",
       "      <td>2.0</td>\n",
       "    </tr>\n",
       "  </tbody>\n",
       "</table>\n",
       "</div>"
      ],
      "text/plain": [
       "   Pclass  Sex   Age  SibSp  Parch     Fare Embarked  Title\n",
       "0       3    1  34.5      0      0   7.8292        2    0.0\n",
       "1       3    0  47.0      1      0   7.0000        0    2.0\n",
       "2       2    1  62.0      0      0   9.6875        2    0.0\n",
       "3       3    1  27.0      0      0   8.6625        0    0.0\n",
       "4       3    0  22.0      1      1  12.2875        0    2.0"
      ]
     },
     "execution_count": 42,
     "metadata": {},
     "output_type": "execute_result"
    }
   ],
   "source": [
    "df2.Sex=df2.Sex.map({'female':0, 'male':1})\n",
    "df2.Embarked=df2.Embarked.map({'S':0, 'C':1, 'Q':2,'nan':'nan'})\n",
    "df2.Title=df2.Title.map({'Mr':0, 'Miss':1, 'Mrs':2,'Master':3,'Officer':4,'Royalty':5})\n",
    "df2.head()"
   ]
  },
  {
   "cell_type": "code",
   "execution_count": 43,
   "id": "29fcd361",
   "metadata": {
    "execution": {
     "iopub.execute_input": "2024-03-01T04:59:09.164987Z",
     "iopub.status.busy": "2024-03-01T04:59:09.164631Z",
     "iopub.status.idle": "2024-03-01T04:59:09.172790Z",
     "shell.execute_reply": "2024-03-01T04:59:09.172091Z"
    },
    "papermill": {
     "duration": 0.029,
     "end_time": "2024-03-01T04:59:09.174694",
     "exception": false,
     "start_time": "2024-03-01T04:59:09.145694",
     "status": "completed"
    },
    "tags": []
   },
   "outputs": [
    {
     "data": {
      "text/plain": [
       "Pclass       0\n",
       "Sex          0\n",
       "Age         86\n",
       "SibSp        0\n",
       "Parch        0\n",
       "Fare         1\n",
       "Embarked     0\n",
       "Title        1\n",
       "dtype: int64"
      ]
     },
     "execution_count": 43,
     "metadata": {},
     "output_type": "execute_result"
    }
   ],
   "source": [
    "df2.isnull().sum()"
   ]
  },
  {
   "cell_type": "code",
   "execution_count": 44,
   "id": "0cf2fdbe",
   "metadata": {
    "execution": {
     "iopub.execute_input": "2024-03-01T04:59:09.215179Z",
     "iopub.status.busy": "2024-03-01T04:59:09.214815Z",
     "iopub.status.idle": "2024-03-01T04:59:09.222062Z",
     "shell.execute_reply": "2024-03-01T04:59:09.221130Z"
    },
    "papermill": {
     "duration": 0.028409,
     "end_time": "2024-03-01T04:59:09.223731",
     "exception": false,
     "start_time": "2024-03-01T04:59:09.195322",
     "status": "completed"
    },
    "tags": []
   },
   "outputs": [],
   "source": [
    "median_age_men2=df2[df2['Sex']==1]['Age'].median()\n",
    "median_age_women2=df2[df2['Sex']==0]['Age'].median()"
   ]
  },
  {
   "cell_type": "code",
   "execution_count": 45,
   "id": "59495b9d",
   "metadata": {
    "execution": {
     "iopub.execute_input": "2024-03-01T04:59:09.261671Z",
     "iopub.status.busy": "2024-03-01T04:59:09.260808Z",
     "iopub.status.idle": "2024-03-01T04:59:09.267407Z",
     "shell.execute_reply": "2024-03-01T04:59:09.266761Z"
    },
    "papermill": {
     "duration": 0.027995,
     "end_time": "2024-03-01T04:59:09.269675",
     "exception": false,
     "start_time": "2024-03-01T04:59:09.241680",
     "status": "completed"
    },
    "scrolled": true,
    "tags": []
   },
   "outputs": [],
   "source": [
    "df2.loc[(df2.Age.isnull()) & (df2['Sex']==0),'Age']=median_age_women2\n",
    "df2.loc[(df2.Age.isnull()) & (df2['Sex']==1),'Age']=median_age_men2"
   ]
  },
  {
   "cell_type": "code",
   "execution_count": 46,
   "id": "a1afab8f",
   "metadata": {
    "execution": {
     "iopub.execute_input": "2024-03-01T04:59:09.307747Z",
     "iopub.status.busy": "2024-03-01T04:59:09.307334Z",
     "iopub.status.idle": "2024-03-01T04:59:09.314196Z",
     "shell.execute_reply": "2024-03-01T04:59:09.313268Z"
    },
    "papermill": {
     "duration": 0.028026,
     "end_time": "2024-03-01T04:59:09.316044",
     "exception": false,
     "start_time": "2024-03-01T04:59:09.288018",
     "status": "completed"
    },
    "tags": []
   },
   "outputs": [],
   "source": [
    "df2['Fare']=df2['Fare'].fillna(df2['Fare'].median())"
   ]
  },
  {
   "cell_type": "code",
   "execution_count": 47,
   "id": "814bd848",
   "metadata": {
    "execution": {
     "iopub.execute_input": "2024-03-01T04:59:09.354446Z",
     "iopub.status.busy": "2024-03-01T04:59:09.353924Z",
     "iopub.status.idle": "2024-03-01T04:59:09.361503Z",
     "shell.execute_reply": "2024-03-01T04:59:09.360330Z"
    },
    "papermill": {
     "duration": 0.029656,
     "end_time": "2024-03-01T04:59:09.364153",
     "exception": false,
     "start_time": "2024-03-01T04:59:09.334497",
     "status": "completed"
    },
    "scrolled": true,
    "tags": []
   },
   "outputs": [
    {
     "data": {
      "text/plain": [
       "Pclass      0\n",
       "Sex         0\n",
       "Age         0\n",
       "SibSp       0\n",
       "Parch       0\n",
       "Fare        0\n",
       "Embarked    0\n",
       "Title       1\n",
       "dtype: int64"
      ]
     },
     "execution_count": 47,
     "metadata": {},
     "output_type": "execute_result"
    }
   ],
   "source": [
    "df2.isnull().sum()"
   ]
  },
  {
   "cell_type": "code",
   "execution_count": 48,
   "id": "0c00d41d",
   "metadata": {
    "execution": {
     "iopub.execute_input": "2024-03-01T04:59:09.404433Z",
     "iopub.status.busy": "2024-03-01T04:59:09.404042Z",
     "iopub.status.idle": "2024-03-01T04:59:09.418314Z",
     "shell.execute_reply": "2024-03-01T04:59:09.417547Z"
    },
    "papermill": {
     "duration": 0.037313,
     "end_time": "2024-03-01T04:59:09.420034",
     "exception": false,
     "start_time": "2024-03-01T04:59:09.382721",
     "status": "completed"
    },
    "scrolled": true,
    "tags": []
   },
   "outputs": [
    {
     "data": {
      "text/html": [
       "<div>\n",
       "<style scoped>\n",
       "    .dataframe tbody tr th:only-of-type {\n",
       "        vertical-align: middle;\n",
       "    }\n",
       "\n",
       "    .dataframe tbody tr th {\n",
       "        vertical-align: top;\n",
       "    }\n",
       "\n",
       "    .dataframe thead th {\n",
       "        text-align: right;\n",
       "    }\n",
       "</style>\n",
       "<table border=\"1\" class=\"dataframe\">\n",
       "  <thead>\n",
       "    <tr style=\"text-align: right;\">\n",
       "      <th></th>\n",
       "      <th>Pclass</th>\n",
       "      <th>Sex</th>\n",
       "      <th>Age</th>\n",
       "      <th>SibSp</th>\n",
       "      <th>Parch</th>\n",
       "      <th>Fare</th>\n",
       "      <th>Embarked</th>\n",
       "      <th>Title</th>\n",
       "    </tr>\n",
       "  </thead>\n",
       "  <tbody>\n",
       "    <tr>\n",
       "      <th>414</th>\n",
       "      <td>1</td>\n",
       "      <td>0</td>\n",
       "      <td>39.0</td>\n",
       "      <td>0</td>\n",
       "      <td>0</td>\n",
       "      <td>108.9</td>\n",
       "      <td>1</td>\n",
       "      <td>NaN</td>\n",
       "    </tr>\n",
       "  </tbody>\n",
       "</table>\n",
       "</div>"
      ],
      "text/plain": [
       "     Pclass  Sex   Age  SibSp  Parch   Fare Embarked  Title\n",
       "414       1    0  39.0      0      0  108.9        1    NaN"
      ]
     },
     "execution_count": 48,
     "metadata": {},
     "output_type": "execute_result"
    }
   ],
   "source": [
    "df2[df2.Title.isnull()]"
   ]
  },
  {
   "cell_type": "markdown",
   "id": "ba74d13f",
   "metadata": {
    "papermill": {
     "duration": 0.018178,
     "end_time": "2024-03-01T04:59:09.457103",
     "exception": false,
     "start_time": "2024-03-01T04:59:09.438925",
     "status": "completed"
    },
    "tags": []
   },
   "source": [
    "Since the person is a woman with age 39, filling the title with 2 (mapped value for the title 'Mrs')"
   ]
  },
  {
   "cell_type": "code",
   "execution_count": 49,
   "id": "2e76e595",
   "metadata": {
    "execution": {
     "iopub.execute_input": "2024-03-01T04:59:09.495414Z",
     "iopub.status.busy": "2024-03-01T04:59:09.494958Z",
     "iopub.status.idle": "2024-03-01T04:59:09.500651Z",
     "shell.execute_reply": "2024-03-01T04:59:09.499716Z"
    },
    "papermill": {
     "duration": 0.028451,
     "end_time": "2024-03-01T04:59:09.503694",
     "exception": false,
     "start_time": "2024-03-01T04:59:09.475243",
     "status": "completed"
    },
    "tags": []
   },
   "outputs": [],
   "source": [
    "df2=df2.fillna(2)"
   ]
  },
  {
   "cell_type": "code",
   "execution_count": 50,
   "id": "403d4529",
   "metadata": {
    "execution": {
     "iopub.execute_input": "2024-03-01T04:59:09.542966Z",
     "iopub.status.busy": "2024-03-01T04:59:09.542602Z",
     "iopub.status.idle": "2024-03-01T04:59:09.551001Z",
     "shell.execute_reply": "2024-03-01T04:59:09.549701Z"
    },
    "papermill": {
     "duration": 0.031527,
     "end_time": "2024-03-01T04:59:09.553676",
     "exception": false,
     "start_time": "2024-03-01T04:59:09.522149",
     "status": "completed"
    },
    "tags": []
   },
   "outputs": [
    {
     "data": {
      "text/plain": [
       "Pclass      0\n",
       "Sex         0\n",
       "Age         0\n",
       "SibSp       0\n",
       "Parch       0\n",
       "Fare        0\n",
       "Embarked    0\n",
       "Title       0\n",
       "dtype: int64"
      ]
     },
     "execution_count": 50,
     "metadata": {},
     "output_type": "execute_result"
    }
   ],
   "source": [
    "df2.isnull().sum()"
   ]
  },
  {
   "cell_type": "code",
   "execution_count": 51,
   "id": "e2095bd2",
   "metadata": {
    "execution": {
     "iopub.execute_input": "2024-03-01T04:59:09.593638Z",
     "iopub.status.busy": "2024-03-01T04:59:09.593256Z",
     "iopub.status.idle": "2024-03-01T04:59:09.606080Z",
     "shell.execute_reply": "2024-03-01T04:59:09.604836Z"
    },
    "papermill": {
     "duration": 0.034782,
     "end_time": "2024-03-01T04:59:09.608041",
     "exception": false,
     "start_time": "2024-03-01T04:59:09.573259",
     "status": "completed"
    },
    "scrolled": true,
    "tags": []
   },
   "outputs": [
    {
     "data": {
      "text/html": [
       "<div>\n",
       "<style scoped>\n",
       "    .dataframe tbody tr th:only-of-type {\n",
       "        vertical-align: middle;\n",
       "    }\n",
       "\n",
       "    .dataframe tbody tr th {\n",
       "        vertical-align: top;\n",
       "    }\n",
       "\n",
       "    .dataframe thead th {\n",
       "        text-align: right;\n",
       "    }\n",
       "</style>\n",
       "<table border=\"1\" class=\"dataframe\">\n",
       "  <thead>\n",
       "    <tr style=\"text-align: right;\">\n",
       "      <th></th>\n",
       "      <th>Pclass</th>\n",
       "      <th>Sex</th>\n",
       "      <th>Age</th>\n",
       "      <th>SibSp</th>\n",
       "      <th>Parch</th>\n",
       "      <th>Fare</th>\n",
       "      <th>Embarked</th>\n",
       "      <th>Title</th>\n",
       "    </tr>\n",
       "  </thead>\n",
       "  <tbody>\n",
       "    <tr>\n",
       "      <th>0</th>\n",
       "      <td>3</td>\n",
       "      <td>1</td>\n",
       "      <td>34.5</td>\n",
       "      <td>0</td>\n",
       "      <td>0</td>\n",
       "      <td>7.8292</td>\n",
       "      <td>2</td>\n",
       "      <td>0.0</td>\n",
       "    </tr>\n",
       "    <tr>\n",
       "      <th>1</th>\n",
       "      <td>3</td>\n",
       "      <td>0</td>\n",
       "      <td>47.0</td>\n",
       "      <td>1</td>\n",
       "      <td>0</td>\n",
       "      <td>7.0000</td>\n",
       "      <td>0</td>\n",
       "      <td>2.0</td>\n",
       "    </tr>\n",
       "    <tr>\n",
       "      <th>2</th>\n",
       "      <td>2</td>\n",
       "      <td>1</td>\n",
       "      <td>62.0</td>\n",
       "      <td>0</td>\n",
       "      <td>0</td>\n",
       "      <td>9.6875</td>\n",
       "      <td>2</td>\n",
       "      <td>0.0</td>\n",
       "    </tr>\n",
       "    <tr>\n",
       "      <th>3</th>\n",
       "      <td>3</td>\n",
       "      <td>1</td>\n",
       "      <td>27.0</td>\n",
       "      <td>0</td>\n",
       "      <td>0</td>\n",
       "      <td>8.6625</td>\n",
       "      <td>0</td>\n",
       "      <td>0.0</td>\n",
       "    </tr>\n",
       "    <tr>\n",
       "      <th>4</th>\n",
       "      <td>3</td>\n",
       "      <td>0</td>\n",
       "      <td>22.0</td>\n",
       "      <td>1</td>\n",
       "      <td>1</td>\n",
       "      <td>12.2875</td>\n",
       "      <td>0</td>\n",
       "      <td>2.0</td>\n",
       "    </tr>\n",
       "  </tbody>\n",
       "</table>\n",
       "</div>"
      ],
      "text/plain": [
       "   Pclass  Sex   Age  SibSp  Parch     Fare  Embarked  Title\n",
       "0       3    1  34.5      0      0   7.8292         2    0.0\n",
       "1       3    0  47.0      1      0   7.0000         0    2.0\n",
       "2       2    1  62.0      0      0   9.6875         2    0.0\n",
       "3       3    1  27.0      0      0   8.6625         0    0.0\n",
       "4       3    0  22.0      1      1  12.2875         0    2.0"
      ]
     },
     "execution_count": 51,
     "metadata": {},
     "output_type": "execute_result"
    }
   ],
   "source": [
    "df2.head()"
   ]
  },
  {
   "cell_type": "code",
   "execution_count": 52,
   "id": "1f179638",
   "metadata": {
    "execution": {
     "iopub.execute_input": "2024-03-01T04:59:09.647885Z",
     "iopub.status.busy": "2024-03-01T04:59:09.647450Z",
     "iopub.status.idle": "2024-03-01T04:59:09.655963Z",
     "shell.execute_reply": "2024-03-01T04:59:09.654537Z"
    },
    "papermill": {
     "duration": 0.031623,
     "end_time": "2024-03-01T04:59:09.658323",
     "exception": false,
     "start_time": "2024-03-01T04:59:09.626700",
     "status": "completed"
    },
    "tags": []
   },
   "outputs": [],
   "source": [
    "df2.Age = (df2.Age-min(df2.Age))/(max(df2.Age)-min(df2.Age))\n",
    "df2.Fare = (df2.Fare-min(df2.Fare))/(max(df2.Fare)-min(df2.Fare))"
   ]
  },
  {
   "cell_type": "code",
   "execution_count": 53,
   "id": "aef13f9b",
   "metadata": {
    "execution": {
     "iopub.execute_input": "2024-03-01T04:59:09.696790Z",
     "iopub.status.busy": "2024-03-01T04:59:09.696424Z",
     "iopub.status.idle": "2024-03-01T04:59:09.708453Z",
     "shell.execute_reply": "2024-03-01T04:59:09.707041Z"
    },
    "papermill": {
     "duration": 0.034311,
     "end_time": "2024-03-01T04:59:09.711169",
     "exception": false,
     "start_time": "2024-03-01T04:59:09.676858",
     "status": "completed"
    },
    "tags": []
   },
   "outputs": [
    {
     "data": {
      "text/html": [
       "<div>\n",
       "<style scoped>\n",
       "    .dataframe tbody tr th:only-of-type {\n",
       "        vertical-align: middle;\n",
       "    }\n",
       "\n",
       "    .dataframe tbody tr th {\n",
       "        vertical-align: top;\n",
       "    }\n",
       "\n",
       "    .dataframe thead th {\n",
       "        text-align: right;\n",
       "    }\n",
       "</style>\n",
       "<table border=\"1\" class=\"dataframe\">\n",
       "  <thead>\n",
       "    <tr style=\"text-align: right;\">\n",
       "      <th></th>\n",
       "      <th>Pclass</th>\n",
       "      <th>Sex</th>\n",
       "      <th>Age</th>\n",
       "      <th>SibSp</th>\n",
       "      <th>Parch</th>\n",
       "      <th>Fare</th>\n",
       "      <th>Embarked</th>\n",
       "      <th>Title</th>\n",
       "    </tr>\n",
       "  </thead>\n",
       "  <tbody>\n",
       "    <tr>\n",
       "      <th>0</th>\n",
       "      <td>3</td>\n",
       "      <td>1</td>\n",
       "      <td>0.452723</td>\n",
       "      <td>0</td>\n",
       "      <td>0</td>\n",
       "      <td>0.015282</td>\n",
       "      <td>2</td>\n",
       "      <td>0.0</td>\n",
       "    </tr>\n",
       "    <tr>\n",
       "      <th>1</th>\n",
       "      <td>3</td>\n",
       "      <td>0</td>\n",
       "      <td>0.617566</td>\n",
       "      <td>1</td>\n",
       "      <td>0</td>\n",
       "      <td>0.013663</td>\n",
       "      <td>0</td>\n",
       "      <td>2.0</td>\n",
       "    </tr>\n",
       "    <tr>\n",
       "      <th>2</th>\n",
       "      <td>2</td>\n",
       "      <td>1</td>\n",
       "      <td>0.815377</td>\n",
       "      <td>0</td>\n",
       "      <td>0</td>\n",
       "      <td>0.018909</td>\n",
       "      <td>2</td>\n",
       "      <td>0.0</td>\n",
       "    </tr>\n",
       "    <tr>\n",
       "      <th>3</th>\n",
       "      <td>3</td>\n",
       "      <td>1</td>\n",
       "      <td>0.353818</td>\n",
       "      <td>0</td>\n",
       "      <td>0</td>\n",
       "      <td>0.016908</td>\n",
       "      <td>0</td>\n",
       "      <td>0.0</td>\n",
       "    </tr>\n",
       "    <tr>\n",
       "      <th>4</th>\n",
       "      <td>3</td>\n",
       "      <td>0</td>\n",
       "      <td>0.287881</td>\n",
       "      <td>1</td>\n",
       "      <td>1</td>\n",
       "      <td>0.023984</td>\n",
       "      <td>0</td>\n",
       "      <td>2.0</td>\n",
       "    </tr>\n",
       "  </tbody>\n",
       "</table>\n",
       "</div>"
      ],
      "text/plain": [
       "   Pclass  Sex       Age  SibSp  Parch      Fare  Embarked  Title\n",
       "0       3    1  0.452723      0      0  0.015282         2    0.0\n",
       "1       3    0  0.617566      1      0  0.013663         0    2.0\n",
       "2       2    1  0.815377      0      0  0.018909         2    0.0\n",
       "3       3    1  0.353818      0      0  0.016908         0    0.0\n",
       "4       3    0  0.287881      1      1  0.023984         0    2.0"
      ]
     },
     "execution_count": 53,
     "metadata": {},
     "output_type": "execute_result"
    }
   ],
   "source": [
    "df2.head()"
   ]
  },
  {
   "cell_type": "markdown",
   "id": "9b95d075",
   "metadata": {
    "papermill": {
     "duration": 0.018582,
     "end_time": "2024-03-01T04:59:09.748905",
     "exception": false,
     "start_time": "2024-03-01T04:59:09.730323",
     "status": "completed"
    },
    "tags": []
   },
   "source": [
    "#### Predicting"
   ]
  },
  {
   "cell_type": "code",
   "execution_count": 54,
   "id": "fc9af5a1",
   "metadata": {
    "execution": {
     "iopub.execute_input": "2024-03-01T04:59:09.790397Z",
     "iopub.status.busy": "2024-03-01T04:59:09.790033Z",
     "iopub.status.idle": "2024-03-01T04:59:09.796947Z",
     "shell.execute_reply": "2024-03-01T04:59:09.795716Z"
    },
    "papermill": {
     "duration": 0.030267,
     "end_time": "2024-03-01T04:59:09.798779",
     "exception": false,
     "start_time": "2024-03-01T04:59:09.768512",
     "status": "completed"
    },
    "tags": []
   },
   "outputs": [],
   "source": [
    "pred = clf.predict(df2)"
   ]
  },
  {
   "cell_type": "code",
   "execution_count": 55,
   "id": "1afc45ae",
   "metadata": {
    "execution": {
     "iopub.execute_input": "2024-03-01T04:59:09.838099Z",
     "iopub.status.busy": "2024-03-01T04:59:09.837712Z",
     "iopub.status.idle": "2024-03-01T04:59:09.844075Z",
     "shell.execute_reply": "2024-03-01T04:59:09.843459Z"
    },
    "papermill": {
     "duration": 0.028049,
     "end_time": "2024-03-01T04:59:09.845800",
     "exception": false,
     "start_time": "2024-03-01T04:59:09.817751",
     "status": "completed"
    },
    "tags": []
   },
   "outputs": [
    {
     "data": {
      "text/plain": [
       "array([0, 0, 0, 0, 1, 0, 1, 0, 1, 0, 0, 0, 1, 0, 1, 1, 0, 0, 0, 1, 0, 0,\n",
       "       1, 1, 1, 0, 1, 0, 0, 0, 0, 0, 1, 1, 0, 0, 1, 1, 0, 0, 0, 0, 0, 1,\n",
       "       1, 0, 0, 0, 1, 1, 0, 0, 1, 1, 0, 0, 0, 0, 0, 1, 0, 0, 0, 1, 1, 1,\n",
       "       1, 0, 0, 1, 1, 0, 1, 0, 1, 0, 0, 1, 0, 1, 0, 0, 0, 0, 0, 0, 1, 1,\n",
       "       1, 1, 1, 0, 1, 0, 0, 0, 1, 0, 1, 0, 1, 0, 0, 0, 1, 0, 0, 0, 0, 0,\n",
       "       0, 1, 1, 1, 1, 0, 0, 1, 0, 1, 1, 0, 1, 0, 0, 1, 0, 1, 0, 0, 0, 1,\n",
       "       1, 0, 0, 0, 0, 0, 1, 0, 0, 1, 0, 0, 0, 0, 0, 0, 0, 0, 1, 0, 0, 1,\n",
       "       0, 0, 1, 1, 0, 1, 1, 0, 1, 0, 1, 1, 0, 0, 1, 1, 0, 0, 0, 0, 0, 1,\n",
       "       1, 0, 1, 1, 0, 0, 1, 0, 1, 0, 1, 0, 0, 0, 0, 0, 0, 0, 1, 0, 1, 1,\n",
       "       0, 1, 1, 0, 1, 1, 0, 0, 1, 0, 1, 0, 0, 0, 0, 1, 0, 0, 1, 0, 1, 0,\n",
       "       1, 0, 1, 0, 1, 1, 0, 1, 0, 0, 0, 1, 0, 0, 0, 0, 0, 0, 1, 1, 1, 1,\n",
       "       0, 0, 0, 0, 1, 0, 1, 1, 1, 0, 0, 0, 0, 0, 0, 0, 1, 0, 0, 0, 1, 1,\n",
       "       0, 0, 0, 0, 1, 0, 0, 0, 1, 1, 0, 1, 0, 0, 0, 0, 1, 0, 1, 1, 1, 0,\n",
       "       0, 0, 0, 0, 0, 1, 0, 1, 0, 0, 1, 0, 0, 0, 0, 0, 0, 0, 1, 1, 0, 0,\n",
       "       0, 0, 0, 0, 0, 1, 1, 1, 0, 0, 0, 0, 0, 0, 0, 0, 1, 0, 1, 0, 0, 0,\n",
       "       1, 0, 0, 1, 0, 0, 0, 0, 0, 0, 0, 0, 0, 1, 0, 1, 0, 1, 0, 1, 1, 0,\n",
       "       0, 0, 1, 0, 1, 0, 0, 1, 0, 1, 1, 0, 1, 0, 0, 1, 1, 0, 0, 1, 0, 0,\n",
       "       1, 1, 0, 0, 0, 0, 0, 0, 1, 1, 0, 1, 0, 0, 0, 0, 0, 1, 0, 0, 0, 1,\n",
       "       0, 1, 0, 0, 1, 0, 1, 0, 0, 0, 0, 0, 1, 1, 1, 1, 1, 0, 1, 0, 0, 0])"
      ]
     },
     "execution_count": 55,
     "metadata": {},
     "output_type": "execute_result"
    }
   ],
   "source": [
    "pred"
   ]
  },
  {
   "cell_type": "code",
   "execution_count": 56,
   "id": "8d0016fe",
   "metadata": {
    "execution": {
     "iopub.execute_input": "2024-03-01T04:59:09.887226Z",
     "iopub.status.busy": "2024-03-01T04:59:09.886840Z",
     "iopub.status.idle": "2024-03-01T04:59:09.896770Z",
     "shell.execute_reply": "2024-03-01T04:59:09.895263Z"
    },
    "papermill": {
     "duration": 0.033108,
     "end_time": "2024-03-01T04:59:09.899376",
     "exception": false,
     "start_time": "2024-03-01T04:59:09.866268",
     "status": "completed"
    },
    "tags": []
   },
   "outputs": [],
   "source": [
    "submission = pd.DataFrame({\n",
    "        \"PassengerId\": test[\"PassengerId\"],\n",
    "        \"Survived\": pred\n",
    "    })\n",
    "submission.to_csv('submission.csv', index=False)"
   ]
  },
  {
   "cell_type": "code",
   "execution_count": 57,
   "id": "889a35cc",
   "metadata": {
    "execution": {
     "iopub.execute_input": "2024-03-01T04:59:09.939916Z",
     "iopub.status.busy": "2024-03-01T04:59:09.939529Z",
     "iopub.status.idle": "2024-03-01T04:59:09.946687Z",
     "shell.execute_reply": "2024-03-01T04:59:09.945783Z"
    },
    "papermill": {
     "duration": 0.02997,
     "end_time": "2024-03-01T04:59:09.949354",
     "exception": false,
     "start_time": "2024-03-01T04:59:09.919384",
     "status": "completed"
    },
    "tags": []
   },
   "outputs": [],
   "source": [
    "pred_df = pd.read_csv('submission.csv')"
   ]
  },
  {
   "cell_type": "code",
   "execution_count": 58,
   "id": "4a256b68",
   "metadata": {
    "execution": {
     "iopub.execute_input": "2024-03-01T04:59:09.988847Z",
     "iopub.status.busy": "2024-03-01T04:59:09.988451Z",
     "iopub.status.idle": "2024-03-01T04:59:10.099572Z",
     "shell.execute_reply": "2024-03-01T04:59:10.098664Z"
    },
    "papermill": {
     "duration": 0.132944,
     "end_time": "2024-03-01T04:59:10.101342",
     "exception": false,
     "start_time": "2024-03-01T04:59:09.968398",
     "status": "completed"
    },
    "tags": []
   },
   "outputs": [
    {
     "data": {
      "text/plain": [
       "<AxesSubplot:xlabel='Survived', ylabel='count'>"
      ]
     },
     "execution_count": 58,
     "metadata": {},
     "output_type": "execute_result"
    },
    {
     "data": {
      "image/png": "[encoded data removed]",
      "text/plain": [
       "<Figure size 432x288 with 1 Axes>"
      ]
     },
     "metadata": {
      "needs_background": "light"
     },
     "output_type": "display_data"
    }
   ],
   "source": [
    "# visualizing predicted values\n",
    "sns.countplot(x='Survived', data=pred_df)"
   ]
  }
 ],
 "metadata": {
  "kaggle": {
   "accelerator": "none",
   "dataSources": [
    {
     "databundleVersionId": 26502,
     "sourceId": 3136,
     "sourceType": "competition"
    }
   ],
   "dockerImageVersionId": 30260,
   "isGpuEnabled": false,
   "isInternetEnabled": true,
   "language": "python",
   "sourceType": "notebook"
  },
  "kernelspec": {
   "display_name": "Python 3 (ipykernel)",
   "language": "python",
   "name": "python3"
  },
  "language_info": {
   "codemirror_mode": {
    "name": "ipython",
    "version": 3
   },
   "file_extension": ".py",
   "mimetype": "text/x-python",
   "name": "python",
   "nbconvert_exporter": "python",
   "pygments_lexer": "ipython3",
   "version": "3.11.5"
  },
  "papermill": {
   "default_parameters": {},
   "duration": 15.010758,
   "end_time": "2024-03-01T04:59:10.845429",
   "environment_variables": {},
   "exception": null,
   "input_path": "__notebook__.ipynb",
   "output_path": "__notebook__.ipynb",
   "parameters": {},
   "start_time": "2024-03-01T04:58:55.834671",
   "version": "2.3.3"
  },
  "vscode": {
   "interpreter": {
    "hash": "11938c6bc6919ae2720b4d5011047913343b08a43b18698fd82dedb0d4417594"
   }
  }
 },
 "nbformat": 4,
 "nbformat_minor": 5
}
